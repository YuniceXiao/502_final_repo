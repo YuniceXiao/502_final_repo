{
 "cells": [
  {
   "cell_type": "markdown",
   "metadata": {},
   "source": [
    "## Prepare the environment and data"
   ]
  },
  {
   "cell_type": "code",
   "execution_count": 1,
   "metadata": {},
   "outputs": [],
   "source": [
    "import findspark\n",
    "findspark.init()"
   ]
  },
  {
   "cell_type": "code",
   "execution_count": 2,
   "metadata": {},
   "outputs": [
    {
     "data": {
      "text/html": [
       "\n",
       "        <div>\n",
       "            <p><b>SparkContext</b></p>\n",
       "\n",
       "            <p><a href=\"http://ip-172-31-51-64.ec2.internal:4040\">Spark UI</a></p>\n",
       "\n",
       "            <dl>\n",
       "              <dt>Version</dt>\n",
       "                <dd><code>v2.4.4</code></dd>\n",
       "              <dt>Master</dt>\n",
       "                <dd><code>yarn</code></dd>\n",
       "              <dt>AppName</dt>\n",
       "                <dd><code>Final Project</code></dd>\n",
       "            </dl>\n",
       "        </div>\n",
       "        "
      ],
      "text/plain": [
       "<SparkContext master=yarn appName=Final Project>"
      ]
     },
     "execution_count": 2,
     "metadata": {},
     "output_type": "execute_result"
    }
   ],
   "source": [
    "from pyspark.sql import SparkSession\n",
    "spark = SparkSession.builder \\\n",
    "     .appName(\"Final Project\") \\\n",
    "     .getOrCreate()\n",
    "sc = spark.sparkContext      # get the context\n",
    "sc"
   ]
  },
  {
   "cell_type": "code",
   "execution_count": 3,
   "metadata": {},
   "outputs": [],
   "source": [
    "import pandas as pd"
   ]
  },
  {
   "cell_type": "code",
   "execution_count": 4,
   "metadata": {},
   "outputs": [],
   "source": [
    "features = spark.read.format(\"csv\").option(\"header\", \"true\").load(\"s3://anly502final/fma_dataset/fma_dataset.csv\")"
   ]
  },
  {
   "cell_type": "code",
   "execution_count": 5,
   "metadata": {},
   "outputs": [],
   "source": [
    "tracks = spark.read.format(\"csv\").option(\"header\", \"true\").load(\"s3://anly502final/fma_dataset/tracks.csv\")"
   ]
  },
  {
   "cell_type": "code",
   "execution_count": 22,
   "metadata": {},
   "outputs": [],
   "source": [
    "#Combine two csv file by tracks_id column\n",
    "Join_table = features.join(tracks[\"track_id\",\"genre_top\"], features.feature == tracks.track_id)"
   ]
  },
  {
   "cell_type": "code",
   "execution_count": 23,
   "metadata": {},
   "outputs": [],
   "source": [
    "#convert the type of track_id column into integer\n",
    "from pyspark.sql.types import *\n",
    "Join_table = Join_table.withColumn(\"track_id\", Join_table[\"track_id\"].cast(IntegerType()))"
   ]
  },
  {
   "cell_type": "code",
   "execution_count": 24,
   "metadata": {},
   "outputs": [],
   "source": [
    "#order by track_id column\n",
    "from pyspark.sql.functions import col\n",
    "Join_table = Join_table.orderBy(Join_table.track_id)"
   ]
  },
  {
   "cell_type": "code",
   "execution_count": 25,
   "metadata": {},
   "outputs": [],
   "source": [
    "#delete duplicate column\n",
    "Join_table = Join_table.drop('feature')"
   ]
  },
  {
   "cell_type": "markdown",
   "metadata": {},
   "source": [
    "#### .printSchema()\n",
    "\n",
    "There are 520 columns in the following dataframe. \n",
    "The first 518 columns are features extracted by LibROSA, which is a python package for music and audio analysis. \n",
    "The last two columns are respectively the identity column \"track_id\" and the target variable \"genre_top\"."
   ]
  },
  {
   "cell_type": "code",
   "execution_count": 49,
   "metadata": {},
   "outputs": [],
   "source": [
    "#Join_table.printSchema()"
   ]
  },
  {
   "cell_type": "markdown",
   "metadata": {},
   "source": [
    "Create a TempView and filter out distinct values of target variables:\n",
    "\n",
    "Now we have four categories: album, live performance, single tracks and radio program."
   ]
  },
  {
   "cell_type": "code",
   "execution_count": 36,
   "metadata": {},
   "outputs": [],
   "source": [
    "Join_table.createOrReplaceTempView(\"Join_table\")"
   ]
  },
  {
   "cell_type": "markdown",
   "metadata": {},
   "source": [
    "#### cleaned_df\n",
    "This dataframe now has an identity column, a label column and 518 feature columns for feature engineering and modeling."
   ]
  },
  {
   "cell_type": "code",
   "execution_count": 41,
   "metadata": {},
   "outputs": [],
   "source": [
    "cleaned_df = spark.sql(\"select * from Join_table where genre_top in ('Experimental','Electronic','Rock','Instrumental','Pop','Folk','Hip-Hop','International','Jazz','Classical','Country','Spoken','Blues') \")"
   ]
  },
  {
   "cell_type": "code",
   "execution_count": 42,
   "metadata": {},
   "outputs": [
    {
     "data": {
      "text/plain": [
       "11105"
      ]
     },
     "execution_count": 42,
     "metadata": {},
     "output_type": "execute_result"
    }
   ],
   "source": [
    "cleaned_df.count() # The No. of row of the dataframe"
   ]
  },
  {
   "cell_type": "markdown",
   "metadata": {},
   "source": [
    "## Exploratory data analysis"
   ]
  },
  {
   "cell_type": "markdown",
   "metadata": {},
   "source": [
    "### 1. Check the balance of the target variable"
   ]
  },
  {
   "cell_type": "code",
   "execution_count": 45,
   "metadata": {},
   "outputs": [],
   "source": [
    "import pyspark.sql.functions as F\n",
    "from pyspark.sql.functions import bround\n",
    "check_balance = cleaned_df.groupBy(\"genre_top\").count()\n",
    "check_balance = check_balance.withColumn(\"Percentage\",bround(F.col(\"count\")/11105,2))"
   ]
  },
  {
   "cell_type": "code",
   "execution_count": 46,
   "metadata": {},
   "outputs": [
    {
     "name": "stdout",
     "output_type": "stream",
     "text": [
      "+-------------+-----+----------+\n",
      "|    genre_top|count|Percentage|\n",
      "+-------------+-----+----------+\n",
      "|International|  276|      0.02|\n",
      "| Instrumental|  689|      0.06|\n",
      "|         Rock| 2557|      0.23|\n",
      "|         Jazz|  125|      0.01|\n",
      "|         Folk|  919|      0.08|\n",
      "|    Classical|  160|      0.01|\n",
      "|        Blues|   13|       0.0|\n",
      "| Experimental| 1993|      0.18|\n",
      "|       Spoken|   64|      0.01|\n",
      "|          Pop|  554|      0.05|\n",
      "|   Electronic| 3069|      0.28|\n",
      "|      Country|   68|      0.01|\n",
      "|      Hip-Hop|  618|      0.06|\n",
      "+-------------+-----+----------+\n",
      "\n"
     ]
    }
   ],
   "source": [
    "check_balance.show()"
   ]
  },
  {
   "cell_type": "markdown",
   "metadata": {},
   "source": [
    "The data is highly imbalanced, The \"Album\" label takes up 90% among all labels and all other three label types only take up 10%."
   ]
  },
  {
   "cell_type": "markdown",
   "metadata": {},
   "source": [
    "### 2. Check the collinearity of features"
   ]
  },
  {
   "cell_type": "markdown",
   "metadata": {},
   "source": [
    "#### The features we selected for supervised learning:\n",
    " \n",
    "1. chroma_cens1\n",
    "2. chroma_cqt85\n",
    "3. chroma_stft169\n",
    "4. mfcc253\n",
    "5. spectral_bandwidth400\n",
    "6. spectral_centroid407\n",
    "7. spectral_contrast414\n",
    "8. spectral_rolloff463\n",
    "9. tonnetz470\n",
    "10. zcr512"
   ]
  },
  {
   "cell_type": "markdown",
   "metadata": {},
   "source": [
    "## Unsupervised Learning: K-means Clustering"
   ]
  },
  {
   "cell_type": "markdown",
   "metadata": {},
   "source": [
    "### 1. Prepare the data"
   ]
  },
  {
   "cell_type": "markdown",
   "metadata": {},
   "source": [
    "Remove \"spectral_rolloff463\" and \"genre_top\" from our data and convert all data to float. We pretend there are no labels in our data set."
   ]
  },
  {
   "cell_type": "code",
   "execution_count": 82,
   "metadata": {},
   "outputs": [],
   "source": [
    "cols = ['track_id','chroma_cens1', 'chroma_cqt85', 'chroma_stft169', 'mfcc253', 'spectral_bandwidth400',\n",
    "           'spectral_centroid407', 'spectral_contrast414', 'tonnetz470', 'zcr512']\n",
    "unsup_df = cleaned_df[cols]\n",
    "for col in unsup_df.columns:\n",
    "    unsup_df = unsup_df.withColumn(col,unsup_df[col].cast('float'))"
   ]
  },
  {
   "cell_type": "code",
   "execution_count": 83,
   "metadata": {},
   "outputs": [
    {
     "name": "stdout",
     "output_type": "stream",
     "text": [
      "root\n",
      " |-- track_id: float (nullable = true)\n",
      " |-- chroma_cens1: float (nullable = true)\n",
      " |-- chroma_cqt85: float (nullable = true)\n",
      " |-- chroma_stft169: float (nullable = true)\n",
      " |-- mfcc253: float (nullable = true)\n",
      " |-- spectral_bandwidth400: float (nullable = true)\n",
      " |-- spectral_centroid407: float (nullable = true)\n",
      " |-- spectral_contrast414: float (nullable = true)\n",
      " |-- tonnetz470: float (nullable = true)\n",
      " |-- zcr512: float (nullable = true)\n",
      "\n"
     ]
    }
   ],
   "source": [
    "unsup_df.printSchema()"
   ]
  },
  {
   "cell_type": "markdown",
   "metadata": {},
   "source": [
    "Drop the null values"
   ]
  },
  {
   "cell_type": "code",
   "execution_count": 84,
   "metadata": {},
   "outputs": [],
   "source": [
    "unsup_df = unsup_df.na.drop()"
   ]
  },
  {
   "cell_type": "markdown",
   "metadata": {},
   "source": [
    "Create a feature vector which stores all features as an array of floats"
   ]
  },
  {
   "cell_type": "code",
   "execution_count": 74,
   "metadata": {},
   "outputs": [],
   "source": [
    "import numpy as np\n",
    "import pandas as pd\n",
    "import matplotlib.pyplot as plt\n",
    "from mpl_toolkits.mplot3d import Axes3D\n",
    "from sklearn.datasets.samples_generator import make_blobs\n",
    "from pyspark.ml.clustering import KMeans\n",
    "from pyspark.ml.feature import VectorAssembler\n",
    "from pyspark.sql import SQLContext"
   ]
  },
  {
   "cell_type": "code",
   "execution_count": 95,
   "metadata": {},
   "outputs": [],
   "source": [
    "selected_features = ['chroma_cens1', 'chroma_cqt85', 'chroma_stft169', 'mfcc253', 'spectral_bandwidth400',\n",
    "           'spectral_centroid407', 'spectral_contrast414', 'tonnetz470', 'zcr512']\n",
    "vecAssembler = VectorAssembler(inputCols=selected_features, outputCol=\"features\")\n",
    "df_kmeans = vecAssembler.transform(unsup_df).select(\"track_id\",\"features\")"
   ]
  },
  {
   "cell_type": "code",
   "execution_count": 96,
   "metadata": {},
   "outputs": [
    {
     "name": "stdout",
     "output_type": "stream",
     "text": [
      "+--------+--------------------+\n",
      "|track_id|            features|\n",
      "+--------+--------------------+\n",
      "|     2.0|[7.18065261840820...|\n",
      "|     3.0|[1.88896334171295...|\n",
      "|     5.0|[0.52756297588348...|\n",
      "|   134.0|[0.91844475269317...|\n",
      "|   139.0|[-0.0208688862621...|\n",
      "|   141.0|[0.17289805412292...|\n",
      "|   170.0|[-0.4299543499946...|\n",
      "|   171.0|[1.31426870822906...|\n",
      "|   172.0|[0.44440415501594...|\n",
      "|   175.0|[2.52066993713378...|\n",
      "|   176.0|[0.83924043178558...|\n",
      "|   178.0|[-0.7247010469436...|\n",
      "|   179.0|[2.66432499885559...|\n",
      "|   189.0|[0.34828430414199...|\n",
      "|   191.0|[-0.0221101082861...|\n",
      "|   192.0|[-0.7870702147483...|\n",
      "|   195.0|[-1.1793559789657...|\n",
      "|   196.0|[-0.0818014964461...|\n",
      "|   199.0|[0.42263925075531...|\n",
      "|   201.0|[0.10787744820117...|\n",
      "+--------+--------------------+\n",
      "only showing top 20 rows\n",
      "\n"
     ]
    }
   ],
   "source": [
    "df_kmeans.show()"
   ]
  },
  {
   "cell_type": "markdown",
   "metadata": {},
   "source": [
    "### 2. Optimize choice of k"
   ]
  },
  {
   "cell_type": "markdown",
   "metadata": {},
   "source": [
    "To optimize k we cluster a fraction of the data for different choices of k and look for an \"elbow\" in the cost function."
   ]
  },
  {
   "cell_type": "code",
   "execution_count": 87,
   "metadata": {},
   "outputs": [],
   "source": [
    "cost = np.zeros(20)\n",
    "for k in range(2,20):\n",
    "    kmeans = KMeans().setK(k).setSeed(1).setFeaturesCol(\"features\")\n",
    "    model = kmeans.fit(df_kmeans.sample(False,0.1, seed=42))\n",
    "    cost[k] = model.computeCost(df_kmeans)"
   ]
  },
  {
   "cell_type": "code",
   "execution_count": 88,
   "metadata": {},
   "outputs": [
    {
     "data": {
      "text/plain": [
       "Text(0, 0.5, 'cost')"
      ]
     },
     "execution_count": 88,
     "metadata": {},
     "output_type": "execute_result"
    },
    {
     "data": {
      "image/png": "[encoded data removed]",
      "text/plain": [
       "<Figure size 576x432 with 1 Axes>"
      ]
     },
     "metadata": {
      "needs_background": "light"
     },
     "output_type": "display_data"
    }
   ],
   "source": [
    "fig, ax = plt.subplots(1,1, figsize =(8,6))\n",
    "ax.plot(range(2,20),cost[2:20])\n",
    "ax.set_xlabel('k')\n",
    "ax.set_ylabel('cost')"
   ]
  },
  {
   "cell_type": "markdown",
   "metadata": {},
   "source": [
    "Look like there is very little gain after k=13 , which is also the number of track genres we have selected, so we stick to that choice when processing the full data set."
   ]
  },
  {
   "cell_type": "markdown",
   "metadata": {},
   "source": [
    "### 3. Train the model"
   ]
  },
  {
   "cell_type": "markdown",
   "metadata": {},
   "source": [
    "Once the training has converged we can print out the centroids of the 13 clusters."
   ]
  },
  {
   "cell_type": "code",
   "execution_count": 97,
   "metadata": {},
   "outputs": [
    {
     "name": "stdout",
     "output_type": "stream",
     "text": [
      "Cluster Centers: \n",
      "[ 0.21655024 -0.41141123 -0.54527835  3.8977303   2.42922718  4.977976\n",
      "  1.89398822  1.43360207  7.03974832]\n",
      "[ 3.16359112e+00  3.43116748e+00  1.45736371e+00  3.28594173e+01\n",
      "  3.29049624e+02  1.16055125e+03  3.22364656e+00 -8.47210975e-02\n",
      "  2.14575064e+02]\n",
      "[ 0.39966276  1.93929483  0.2112936  12.42430823 38.4036166  78.70402688\n",
      "  2.36616127  1.12482204 14.89843401]\n",
      "[  0.71331371   0.70940756  -0.54698736  24.40717687 148.63382447\n",
      " 546.97521925   2.38725005   0.95771802  66.69623354]\n",
      "[ 5.01778376e-01  1.34536213e+00 -1.86170683e-02  6.42110170e+00\n",
      "  2.55074518e+01  1.31203147e+02  2.16097491e+00  5.60307997e-01\n",
      "  3.66996414e+02]\n",
      "[-3.91856904e-01  3.03350608e-01  9.61647823e-01  1.86545524e+01\n",
      "  1.10590786e+02  1.14665822e+03  1.69945745e+00  1.95809383e-01\n",
      "  1.84865979e+03]\n",
      "[5.97638039e-01 8.14207399e-01 3.59195134e-01 5.27454660e+00\n",
      " 2.70097820e+01 2.04986818e+02 1.85152189e+00 5.13816007e-01\n",
      " 8.41034902e+02]\n",
      "[ 2.85755411e-01  1.54249376e-02 -1.22562692e-01  4.42834303e+00\n",
      "  8.76051270e+00  3.87942984e+01  1.99910664e+00  1.09334662e+00\n",
      "  9.44456629e+01]\n",
      "[ 5.10253390e-01 -1.96822305e-01  1.34555627e+00  8.97782670e+00\n",
      "  6.93768030e+01  2.33084605e+02  2.18522685e+00  9.13326226e-01\n",
      "  3.89834355e+01]\n",
      "[  0.38780339   0.35878148   0.40469863  16.59378401  18.35184393\n",
      "  79.71816552   2.33461901   0.74642512 189.08016068]\n",
      "[ 0.15094459 -0.11539895 -0.32575367  3.97197413  4.21050117 18.19588236\n",
      "  1.94301213  1.17948468 38.48998077]\n",
      "[-3.41835797e-01 -8.62699598e-01 -1.13739395e+00  1.00402979e+01\n",
      "  7.15014064e+01  2.18240338e+03  1.23269489e+00  2.07900957e-01\n",
      "  3.48072784e+02]\n",
      "[ 9.01812553e-01 -1.20486587e-01 -4.35020149e-01  1.10692970e+02\n",
      "  1.67125404e+00  7.08878906e+02  3.90363574e+00  1.38864100e-01\n",
      "  2.67931567e+03]\n"
     ]
    }
   ],
   "source": [
    "k = 13\n",
    "kmeans = KMeans().setK(k).setSeed(1).setFeaturesCol(\"features\")\n",
    "model = kmeans.fit(df_kmeans)\n",
    "centers = model.clusterCenters()\n",
    "\n",
    "print(\"Cluster Centers: \")\n",
    "for center in centers:\n",
    "    print(center)"
   ]
  },
  {
   "cell_type": "markdown",
   "metadata": {},
   "source": [
    "Make predictions"
   ]
  },
  {
   "cell_type": "markdown",
   "metadata": {},
   "source": [
    "### 4. Evaluate the model"
   ]
  },
  {
   "cell_type": "markdown",
   "metadata": {},
   "source": [
    "Evaluate clustering"
   ]
  },
  {
   "cell_type": "code",
   "execution_count": 94,
   "metadata": {},
   "outputs": [
    {
     "name": "stdout",
     "output_type": "stream",
     "text": [
      "Within Set Sum of Squared Errors = 20292685.273604553\n"
     ]
    }
   ],
   "source": [
    "cost = model.computeCost(df_kmeans)\n",
    "print(\"Within Set Sum of Squared Errors = \" + str(cost))"
   ]
  },
  {
   "cell_type": "markdown",
   "metadata": {},
   "source": [
    "Evaluate clustering by computing Silhouette score.\n",
    "\n",
    "* If this number is negative, the data cannot be separated at all.\n",
    "* Values closer to 1 indicate maximum separation.\n",
    "* Values close to zero mean the data could barely be separated."
   ]
  },
  {
   "cell_type": "code",
   "execution_count": 98,
   "metadata": {},
   "outputs": [],
   "source": [
    "predictions = model.transform(df_kmeans)"
   ]
  },
  {
   "cell_type": "code",
   "execution_count": 99,
   "metadata": {},
   "outputs": [
    {
     "name": "stdout",
     "output_type": "stream",
     "text": [
      "Silhouette with squared euclidean distance = 0.6084846168635296\n"
     ]
    }
   ],
   "source": [
    "from pyspark.ml.evaluation import ClusteringEvaluator\n",
    "evaluator = ClusteringEvaluator()\n",
    "silhouette = evaluator.evaluate(predictions)\n",
    "print(\"Silhouette with squared euclidean distance = \" + str(silhouette))"
   ]
  },
  {
   "cell_type": "markdown",
   "metadata": {},
   "source": [
    "The result 0.61 is not bad."
   ]
  },
  {
   "cell_type": "code",
   "execution_count": 101,
   "metadata": {},
   "outputs": [],
   "source": [
    "sc.stop()"
   ]
  }
 ],
 "metadata": {
  "kernelspec": {
   "display_name": "Python 3",
   "language": "python",
   "name": "python3"
  },
  "language_info": {
   "codemirror_mode": {
    "name": "ipython",
    "version": 3
   },
   "file_extension": ".py",
   "mimetype": "text/x-python",
   "name": "python",
   "nbconvert_exporter": "python",
   "pygments_lexer": "ipython3",
   "version": "3.7.3"
  }
 },
 "nbformat": 4,
 "nbformat_minor": 4
}
