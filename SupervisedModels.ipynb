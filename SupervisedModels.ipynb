{
 "cells": [
  {
   "cell_type": "markdown",
   "metadata": {},
   "source": [
    "## Prepare the environment and data"
   ]
  },
  {
   "cell_type": "code",
   "execution_count": 476,
   "metadata": {},
   "outputs": [],
   "source": [
    "import findspark\n",
    "findspark.init()"
   ]
  },
  {
   "cell_type": "code",
   "execution_count": 477,
   "metadata": {},
   "outputs": [
    {
     "data": {
      "text/html": [
       "\n",
       "        <div>\n",
       "            <p><b>SparkContext</b></p>\n",
       "\n",
       "            <p><a href=\"http://ip-172-31-46-234.ec2.internal:4040\">Spark UI</a></p>\n",
       "\n",
       "            <dl>\n",
       "              <dt>Version</dt>\n",
       "                <dd><code>v2.4.4</code></dd>\n",
       "              <dt>Master</dt>\n",
       "                <dd><code>yarn</code></dd>\n",
       "              <dt>AppName</dt>\n",
       "                <dd><code>Final Project</code></dd>\n",
       "            </dl>\n",
       "        </div>\n",
       "        "
      ],
      "text/plain": [
       "<SparkContext master=yarn appName=Final Project>"
      ]
     },
     "execution_count": 477,
     "metadata": {},
     "output_type": "execute_result"
    }
   ],
   "source": [
    "from pyspark.sql import SparkSession\n",
    "spark = SparkSession.builder \\\n",
    "     .appName(\"Final Project\") \\\n",
    "     .getOrCreate()\n",
    "sc = spark.sparkContext      # get the context\n",
    "sc"
   ]
  },
  {
   "cell_type": "code",
   "execution_count": 478,
   "metadata": {},
   "outputs": [],
   "source": [
    "from pyspark.ml.feature import OneHotEncoder, StringIndexer, IndexToString, VectorAssembler\n",
    "from pyspark.ml.classification import LogisticRegression\n",
    "from pyspark.ml.evaluation import BinaryClassificationEvaluator\n",
    "from pyspark.ml import Pipeline, Model\n",
    "from pyspark.ml.feature import StringIndexer\n",
    "from pyspark.sql.functions import udf\n",
    "from pyspark.sql.types import IntegerType\n",
    "import pyspark.sql.functions as F\n",
    "from pyspark.sql.types import FloatType\n",
    "from pyspark.sql.types import DoubleType\n",
    "import matplotlib.pyplot as plt\n",
    "from pyspark.ml.feature import VectorAssembler\n",
    "from pyspark.ml.stat import Correlation\n",
    "import numpy as np\n",
    "from sklearn.metrics import confusion_matrix\n",
    "from pyspark.ml.evaluation import MulticlassClassificationEvaluator\n",
    "from sklearn.metrics import confusion_matrix\n",
    "import seaborn as sns\n",
    "import matplotlib.pyplot as plt     \n"
   ]
  },
  {
   "cell_type": "code",
   "execution_count": 479,
   "metadata": {},
   "outputs": [],
   "source": [
    "features = spark.read.format(\"csv\").option(\"header\", \"true\").load(\"s3://anly502final/fma_dataset/fma_dataset.csv\")"
   ]
  },
  {
   "cell_type": "code",
   "execution_count": 480,
   "metadata": {},
   "outputs": [],
   "source": [
    "tracks = spark.read.format(\"csv\").option(\"header\", \"true\").load(\"s3://anly502final/fma_dataset/tracks.csv\")"
   ]
  },
  {
   "cell_type": "code",
   "execution_count": 481,
   "metadata": {},
   "outputs": [],
   "source": [
    "#Combine two csv file by tracks_id column\n",
    "Join_table = features.join(tracks[\"track_id\",\"genre_top\"], features.feature == tracks.track_id)"
   ]
  },
  {
   "cell_type": "code",
   "execution_count": 482,
   "metadata": {},
   "outputs": [],
   "source": [
    "#convert the type of track_id column into integer\n",
    "from pyspark.sql.types import *\n",
    "Join_table = Join_table.withColumn(\"track_id\", Join_table[\"track_id\"].cast(IntegerType()))"
   ]
  },
  {
   "cell_type": "code",
   "execution_count": 483,
   "metadata": {},
   "outputs": [],
   "source": [
    "#order by track_id column\n",
    "from pyspark.sql.functions import col\n",
    "Join_table = Join_table.orderBy(Join_table.track_id)"
   ]
  },
  {
   "cell_type": "code",
   "execution_count": 484,
   "metadata": {},
   "outputs": [],
   "source": [
    "#delete duplicate column\n",
    "Join_table = Join_table.drop('feature')"
   ]
  },
  {
   "cell_type": "markdown",
   "metadata": {},
   "source": [
    "#### .printSchema()\n",
    "\n",
    "There are 520 columns in the following dataframe. \n",
    "The first 518 columns are features extracted by LibROSA, which is a python package for music and audio analysis. \n",
    "The last two columns are respectively the identity column \"track_id\" and the target variable \"genre_top\"."
   ]
  },
  {
   "cell_type": "code",
   "execution_count": 485,
   "metadata": {},
   "outputs": [],
   "source": [
    "#Join_table.printSchema()"
   ]
  },
  {
   "cell_type": "markdown",
   "metadata": {},
   "source": [
    "Create a TempView and filter out distinct values of target variables:\n",
    "\n",
    "Now we have four categories: album, live performance, single tracks and radio program."
   ]
  },
  {
   "cell_type": "code",
   "execution_count": 486,
   "metadata": {},
   "outputs": [],
   "source": [
    "Join_table.createOrReplaceTempView(\"Join_table\")"
   ]
  },
  {
   "cell_type": "markdown",
   "metadata": {},
   "source": [
    "#### cleaned_df\n",
    "This dataframe now has an identity column, a label column and 518 feature columns for feature engineering and modeling."
   ]
  },
  {
   "cell_type": "code",
   "execution_count": 487,
   "metadata": {},
   "outputs": [],
   "source": [
    "cleaned_df = spark.sql(\"select * from Join_table where genre_top in ('Experimental','Electronic','Rock','Instrumental','Pop','Folk','Hip-Hop','International','Jazz','Classical','Country','Spoken','Blues') \")"
   ]
  },
  {
   "cell_type": "code",
   "execution_count": 488,
   "metadata": {},
   "outputs": [
    {
     "data": {
      "text/plain": [
       "11105"
      ]
     },
     "execution_count": 488,
     "metadata": {},
     "output_type": "execute_result"
    }
   ],
   "source": [
    "cleaned_df.count() # The No. of row of the dataframe"
   ]
  },
  {
   "cell_type": "markdown",
   "metadata": {},
   "source": [
    "## Exploratory data analysis"
   ]
  },
  {
   "cell_type": "markdown",
   "metadata": {},
   "source": [
    "### 1. Check the balance of the target variable"
   ]
  },
  {
   "cell_type": "code",
   "execution_count": 489,
   "metadata": {},
   "outputs": [],
   "source": [
    "import pyspark.sql.functions as F\n",
    "from pyspark.sql.functions import bround\n",
    "check_balance = cleaned_df.groupBy(\"genre_top\").count()\n",
    "check_balance = check_balance.withColumn(\"Percentage\",bround(F.col(\"count\")/11105,2))"
   ]
  },
  {
   "cell_type": "code",
   "execution_count": null,
   "metadata": {},
   "outputs": [],
   "source": [
    "check_balance.show()"
   ]
  },
  {
   "cell_type": "markdown",
   "metadata": {},
   "source": [
    "The data is highly imbalanced, The \"Album\" label takes up 90% among all labels and all other three label types only take up 10%."
   ]
  },
  {
   "cell_type": "markdown",
   "metadata": {},
   "source": [
    "### 2. Check the collinearity of features"
   ]
  },
  {
   "cell_type": "markdown",
   "metadata": {},
   "source": [
    "#### The features we selected for supervised learning:\n",
    " \n",
    "1. chroma_cens1\n",
    "2. chroma_cqt85\n",
    "3. chroma_stft169\n",
    "4. mfcc253\n",
    "5. spectral_bandwidth400\n",
    "6. spectral_centroid407\n",
    "7. spectral_contrast414\n",
    "8. spectral_rolloff463\n",
    "9. tonnetz470\n",
    "10. zcr512"
   ]
  },
  {
   "cell_type": "code",
   "execution_count": null,
   "metadata": {},
   "outputs": [],
   "source": []
  },
  {
   "cell_type": "code",
   "execution_count": null,
   "metadata": {},
   "outputs": [],
   "source": [
    "features = ['chroma_cens1', 'chroma_cqt85', 'chroma_stft169', 'mfcc253', 'spectral_bandwidth400',\n",
    "           'spectral_centroid407', 'spectral_contrast414', 'spectral_rolloff463', 'tonnetz470', \n",
    "           'zcr512']\n",
    "\n",
    "myGraph=cleaned_df[features]\n",
    "for col in features:\n",
    "    myGraph = myGraph.withColumn(col,myGraph[col].cast(DoubleType()))\n",
    "\n",
    "vector_col = \"corr_features\"\n",
    "assembler = VectorAssembler(inputCols=features, \n",
    "                            outputCol=vector_col)\n",
    "myGraph_vector = assembler.transform(myGraph).select(vector_col)\n",
    "matrix = Correlation.corr(myGraph_vector, vector_col)\n",
    "\n",
    "matrix = Correlation.corr(myGraph_vector, vector_col).collect()[0][0]\n",
    "corrmatrix = matrix.toArray()"
   ]
  },
  {
   "cell_type": "code",
   "execution_count": null,
   "metadata": {},
   "outputs": [],
   "source": [
    "fig=plt.figure(figsize=(20,15))\n",
    "ax=fig.add_subplot(111)\n",
    "ax.set_title(\"Correlation Matrix for Selected Features\")\n",
    "ax.set_xticklabels(features,minor=True)\n",
    "ax.set_yticklabels(features,minor=True)\n",
    "for i in range(len(corrmatrix)):\n",
    "    for j in range(len(corrmatrix[i])):\n",
    "        text = ax.text(j,i, np.round(corrmatrix[i, j],2),ha=\"center\", va=\"center\", color=\"black\")\n",
    "cax=ax.matshow(corrmatrix,vmax=1,vmin=-1)\n",
    "fig.colorbar(cax)\n",
    "plt.show()"
   ]
  },
  {
   "cell_type": "markdown",
   "metadata": {},
   "source": [
    "Fome the above correlation plot, we can conclude that feature 'spectral_centroid407' and 'spectral_rolloff463' have a relatively strong and positive relationship, while others are weakly or not correlated."
   ]
  },
  {
   "cell_type": "code",
   "execution_count": null,
   "metadata": {},
   "outputs": [],
   "source": []
  },
  {
   "cell_type": "markdown",
   "metadata": {},
   "source": [
    "## Supervised Learning Models"
   ]
  },
  {
   "cell_type": "markdown",
   "metadata": {},
   "source": [
    "Perform some data cleaning and feature processing for training models."
   ]
  },
  {
   "cell_type": "code",
   "execution_count": 491,
   "metadata": {},
   "outputs": [],
   "source": [
    "new_df1 = cleaned_df"
   ]
  },
  {
   "cell_type": "code",
   "execution_count": 492,
   "metadata": {},
   "outputs": [],
   "source": [
    "def convert_type(line):\n",
    "    return float(line)"
   ]
  },
  {
   "cell_type": "code",
   "execution_count": 493,
   "metadata": {},
   "outputs": [],
   "source": [
    "convert_udf = udf(convert_type, FloatType())\n",
    "new_df2 = new_df1.withColumn(\"chroma_cens1\", convert_udf(new_df1.chroma_cens1)).withColumnRenamed(\"chroma_cens1\", \"chroma_cens1\")\n",
    "new_df2 = new_df2.withColumn(\"chroma_cqt85\", convert_udf(new_df1.chroma_cqt85)).withColumnRenamed(\"chroma_cqt85\", \"chroma_cqt85\")\n",
    "new_df2 = new_df2.withColumn(\"chroma_stft169\", convert_udf(new_df1.chroma_stft169)).withColumnRenamed(\"chroma_stft169\", \"chroma_stft169\")\n",
    "new_df2 = new_df2.withColumn(\"mfcc253\", convert_udf(new_df1.mfcc253)).withColumnRenamed(\"mfcc253\", \"mfcc253\")\n",
    "new_df2 = new_df2.withColumn(\"spectral_bandwidth400\", convert_udf(new_df1.spectral_bandwidth400)).withColumnRenamed(\"spectral_bandwidth400\", \"spectral_bandwidth400\")\n",
    "new_df2 = new_df2.withColumn(\"spectral_centroid407\", convert_udf(new_df1.spectral_centroid407)).withColumnRenamed(\"spectral_centroid407\", \"spectral_centroid407\")\n",
    "new_df2 = new_df2.withColumn(\"spectral_contrast414\", convert_udf(new_df1.spectral_contrast414)).withColumnRenamed(\"spectral_contrast414\", \"spectral_contrast414\")\n",
    "new_df2 = new_df2.withColumn(\"tonnetz470\", convert_udf(new_df1.tonnetz470)).withColumnRenamed(\"tonnetz470\", \"tonnetz470\")\n",
    "new_df2 = new_df2.withColumn(\"zcr512\", convert_udf(new_df1.zcr512)).withColumnRenamed(\"zcr512\", \"zcr512\")\n"
   ]
  },
  {
   "cell_type": "code",
   "execution_count": 494,
   "metadata": {},
   "outputs": [],
   "source": [
    "new_df2 = new_df2.na.drop()"
   ]
  },
  {
   "cell_type": "code",
   "execution_count": 495,
   "metadata": {},
   "outputs": [],
   "source": [
    "new_df3 = new_df2.where((new_df2['genre_top'] == 'International') | (new_df2['genre_top'] == 'Instrumental') \n",
    "                        | (new_df2['genre_top'] == 'Rock')\n",
    "                        | (new_df2['genre_top'] == 'Jazz')  | (new_df2['genre_top'] == 'Pop') \n",
    "                        | (new_df2['genre_top'] == 'Folk') | (new_df2['genre_top'] == 'Classical') \n",
    "                        | (new_df2['genre_top'] == 'Blues')  | (new_df2['genre_top'] == 'Electronic') \n",
    "                        | (new_df2['genre_top'] == 'Experimental') | (new_df2['genre_top'] == 'Spoken')\n",
    "                        | (new_df2['genre_top'] == 'Country')  | (new_df2['genre_top'] == 'Hip-Hop'))\n"
   ]
  },
  {
   "cell_type": "code",
   "execution_count": 496,
   "metadata": {},
   "outputs": [],
   "source": [
    "cols = ['chroma_cens1', 'chroma_cqt85', 'chroma_stft169', 'mfcc253', 'spectral_bandwidth400',\n",
    "           'spectral_centroid407', 'spectral_contrast414', 'tonnetz470', 'zcr512', 'genre_top']\n",
    "new_df3 = new_df3[cols]"
   ]
  },
  {
   "cell_type": "markdown",
   "metadata": {},
   "source": [
    "### Logistic Regression"
   ]
  },
  {
   "cell_type": "code",
   "execution_count": 497,
   "metadata": {},
   "outputs": [],
   "source": [
    "# Create a feature vector by combining all features together using the vectorAssembler method.\n",
    "\n",
    "vectorAssembler_features = VectorAssembler(inputCols = ['chroma_cens1', 'chroma_cqt85', 'chroma_stft169', 'mfcc253', 'spectral_bandwidth400',\n",
    "           'spectral_centroid407', 'spectral_contrast414', 'tonnetz470', 'zcr512'], outputCol = 'features')\n",
    "StringIndexer_type = StringIndexer(inputCol = 'genre_top', outputCol = 'label')"
   ]
  },
  {
   "cell_type": "code",
   "execution_count": 498,
   "metadata": {},
   "outputs": [],
   "source": [
    "StringIndexer_type = StringIndexer(inputCol = 'genre_top', outputCol = 'label')"
   ]
  },
  {
   "cell_type": "code",
   "execution_count": 499,
   "metadata": {},
   "outputs": [],
   "source": [
    "from pyspark.sql.functions import bround\n",
    "new_df4 = new_df3.groupBy(\"genre_top\").count()\n",
    "new_df5 = new_df4.withColumn(\"Weight\",bround(11105/F.col(\"count\"),2))"
   ]
  },
  {
   "cell_type": "code",
   "execution_count": 501,
   "metadata": {},
   "outputs": [],
   "source": [
    "lr = LogisticRegression(maxIter=10, regParam=0.3, elasticNetParam=0.8, family=\"multinomial\")\n",
    "pipeline = Pipeline(stages=[vectorAssembler_features, StringIndexer_type])\n",
    "pipelineFit = pipeline.fit(new_df6)\n",
    "dataset = pipelineFit.transform(new_df6)\n",
    "train, test = dataset.randomSplit([0.7, 0.3])\n",
    "model = lr.fit(train)\n",
    "predictions = model.transform(test)"
   ]
  },
  {
   "cell_type": "code",
   "execution_count": 506,
   "metadata": {},
   "outputs": [
    {
     "name": "stdout",
     "output_type": "stream",
     "text": [
      "0.2699908786865309\n"
     ]
    }
   ],
   "source": [
    "evaluator = MulticlassClassificationEvaluator(\n",
    "    labelCol=\"label\", predictionCol=\"prediction\", metricName=\"accuracy\")\n",
    "accuracy = evaluator.evaluate(predictions)\n",
    "print(accuracy)"
   ]
  },
  {
   "cell_type": "markdown",
   "metadata": {},
   "source": [
    "The accuracy of the logistic regression model is only 0.27 and the performance is very bad, so we train an OneVsRest Logistic Regression model. The idea for OneVsRest Logistic Regression is that for each class, there is a binary classifier: this class or the rest of the class. When doing a multi class classification, choose the class with the highest probability. "
   ]
  },
  {
   "cell_type": "markdown",
   "metadata": {},
   "source": [
    "### OneVsRest Logistic Regression"
   ]
  },
  {
   "cell_type": "code",
   "execution_count": 507,
   "metadata": {},
   "outputs": [],
   "source": [
    "from pyspark.ml.classification import LogisticRegression, OneVsRest\n",
    "# instantiate the base classifier.\n",
    "lr = LogisticRegression(maxIter=10, tol=1e-6, fitIntercept=True)\n",
    "\n",
    "# instantiate the One Vs Rest Classifier.\n",
    "ovr = OneVsRest(classifier=lr)\n",
    "\n",
    "# train the multiclass model.\n",
    "ovrModel = ovr.fit(train)\n",
    "\n",
    "# score the model on test data.\n",
    "predictions = ovrModel.transform(test)"
   ]
  },
  {
   "cell_type": "code",
   "execution_count": 508,
   "metadata": {},
   "outputs": [
    {
     "name": "stdout",
     "output_type": "stream",
     "text": [
      "0.34356947400425664\n"
     ]
    }
   ],
   "source": [
    "evaluator = MulticlassClassificationEvaluator(\n",
    "    labelCol=\"label\", predictionCol=\"prediction\", metricName=\"accuracy\")\n",
    "accuracy = evaluator.evaluate(predictions)\n",
    "print(accuracy)"
   ]
  },
  {
   "cell_type": "code",
   "execution_count": 509,
   "metadata": {},
   "outputs": [],
   "source": [
    "test_array = [int(row.label) for row in test.collect()]\n",
    "pred_array = [int(row.prediction) for row in predictions.collect()]\n",
    "cm = confusion_matrix(test_array, pred_array)"
   ]
  },
  {
   "cell_type": "code",
   "execution_count": 512,
   "metadata": {},
   "outputs": [
    {
     "data": {
      "text/plain": [
       "Text(0.5, 1.0, 'Confusion Matrix')"
      ]
     },
     "execution_count": 512,
     "metadata": {},
     "output_type": "execute_result"
    },
    {
     "data": {
      "image/png": "[encoded data removed]",
      "text/plain": [
       "<Figure size 432x288 with 2 Axes>"
      ]
     },
     "metadata": {
      "needs_background": "light"
     },
     "output_type": "display_data"
    }
   ],
   "source": [
    "ax= plt.subplot()\n",
    "sns.heatmap(cm, annot=True, ax = ax)\n",
    "\n",
    "# labels, title and ticks\n",
    "ax.set_xlabel('Predicted labels');ax.set_ylabel('True labels')\n",
    "ax.set_title('Confusion Matrix')\n"
   ]
  },
  {
   "cell_type": "markdown",
   "metadata": {},
   "source": [
    "The accuracy of the OneVsRest Logistic Regression model is 0.344, and the performance is better than logistic regression but still not ideal, so we train a decision tree model to see how it goes.  "
   ]
  },
  {
   "cell_type": "markdown",
   "metadata": {},
   "source": [
    "### Decision Tree"
   ]
  },
  {
   "cell_type": "code",
   "execution_count": 513,
   "metadata": {},
   "outputs": [],
   "source": [
    "from pyspark.ml.classification import DecisionTreeClassifier\n"
   ]
  },
  {
   "cell_type": "code",
   "execution_count": 515,
   "metadata": {},
   "outputs": [
    {
     "name": "stdout",
     "output_type": "stream",
     "text": [
      "0.3706293706293706\n"
     ]
    }
   ],
   "source": [
    "dt = DecisionTreeClassifier(labelCol=\"label\", featuresCol=\"features\")\n",
    "model = dt.fit(train)\n",
    "predictions = model.transform(test)\n",
    "evaluator = MulticlassClassificationEvaluator(\n",
    "    labelCol=\"label\", predictionCol=\"prediction\", metricName=\"accuracy\")\n",
    "accuracy = evaluator.evaluate(predictions)\n",
    "print(accuracy)"
   ]
  },
  {
   "cell_type": "code",
   "execution_count": 516,
   "metadata": {},
   "outputs": [],
   "source": [
    "test_array = [int(row.label) for row in test.collect()]\n",
    "pred_array = [int(row.prediction) for row in predictions.collect()]\n",
    "cm = confusion_matrix(test_array, pred_array)"
   ]
  },
  {
   "cell_type": "code",
   "execution_count": 519,
   "metadata": {},
   "outputs": [
    {
     "data": {
      "text/plain": [
       "Text(0.5, 1.0, 'Confusion Matrix')"
      ]
     },
     "execution_count": 519,
     "metadata": {},
     "output_type": "execute_result"
    },
    {
     "data": {
      "image/png": "[encoded data removed]",
      "text/plain": [
       "<Figure size 432x288 with 2 Axes>"
      ]
     },
     "metadata": {
      "needs_background": "light"
     },
     "output_type": "display_data"
    }
   ],
   "source": [
    "ax= plt.subplot()\n",
    "sns.heatmap(cm, annot=True, ax = ax)\n",
    "\n",
    "# labels, title and ticks\n",
    "ax.set_xlabel('Predicted labels');ax.set_ylabel('True labels')\n",
    "ax.set_title('Confusion Matrix')"
   ]
  },
  {
   "cell_type": "markdown",
   "metadata": {},
   "source": [
    "The accuracy of the decision tree model is 0.37 and the performance is the best among all three supervised learning models we have trained. "
   ]
  },
  {
   "cell_type": "code",
   "execution_count": null,
   "metadata": {},
   "outputs": [],
   "source": []
  }
 ],
 "metadata": {
  "kernelspec": {
   "display_name": "Python 3",
   "language": "python",
   "name": "python3"
  },
  "language_info": {
   "codemirror_mode": {
    "name": "ipython",
    "version": 3
   },
   "file_extension": ".py",
   "mimetype": "text/x-python",
   "name": "python",
   "nbconvert_exporter": "python",
   "pygments_lexer": "ipython3",
   "version": "3.7.6"
  }
 },
 "nbformat": 4,
 "nbformat_minor": 4
}
