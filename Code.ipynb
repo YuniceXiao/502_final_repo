{
 "cells": [
  {
   "cell_type": "markdown",
   "metadata": {},
   "source": [
    "## Prepare the environment and data"
   ]
  },
  {
   "cell_type": "code",
   "execution_count": 1,
   "metadata": {},
   "outputs": [],
   "source": [
    "import findspark\n",
    "findspark.init()"
   ]
  },
  {
   "cell_type": "code",
   "execution_count": 2,
   "metadata": {},
   "outputs": [
    {
     "data": {
      "text/html": [
       "\n",
       "        <div>\n",
       "            <p><b>SparkContext</b></p>\n",
       "\n",
       "            <p><a href=\"http://ip-172-31-70-226.ec2.internal:4041\">Spark UI</a></p>\n",
       "\n",
       "            <dl>\n",
       "              <dt>Version</dt>\n",
       "                <dd><code>v2.4.4</code></dd>\n",
       "              <dt>Master</dt>\n",
       "                <dd><code>yarn</code></dd>\n",
       "              <dt>AppName</dt>\n",
       "                <dd><code>Final Project</code></dd>\n",
       "            </dl>\n",
       "        </div>\n",
       "        "
      ],
      "text/plain": [
       "<SparkContext master=yarn appName=Final Project>"
      ]
     },
     "execution_count": 2,
     "metadata": {},
     "output_type": "execute_result"
    }
   ],
   "source": [
    "from pyspark.sql import SparkSession\n",
    "spark = SparkSession.builder \\\n",
    "     .appName(\"Final Project\") \\\n",
    "     .getOrCreate()\n",
    "sc = spark.sparkContext      # get the context\n",
    "sc"
   ]
  },
  {
   "cell_type": "code",
   "execution_count": 3,
   "metadata": {},
   "outputs": [],
   "source": [
    "import pandas as pd"
   ]
  },
  {
   "cell_type": "code",
   "execution_count": 4,
   "metadata": {},
   "outputs": [],
   "source": [
    "features = spark.read.format(\"csv\").option(\"header\", \"true\").load(\"s3://anly502final/fma_dataset/fma_dataset.csv\")"
   ]
  },
  {
   "cell_type": "code",
   "execution_count": 5,
   "metadata": {},
   "outputs": [],
   "source": [
    "tracks = spark.read.format(\"csv\").option(\"header\", \"true\").load(\"s3://anly502final/fma_dataset/tracks.csv\")"
   ]
  },
  {
   "cell_type": "code",
   "execution_count": 6,
   "metadata": {},
   "outputs": [],
   "source": [
    "#Combine two csv file by tracks_id column\n",
    "Join_table = features.join(tracks[\"track_id\",\"genre_top\"], features.feature == tracks.track_id)"
   ]
  },
  {
   "cell_type": "code",
   "execution_count": 7,
   "metadata": {},
   "outputs": [],
   "source": [
    "#convert the type of track_id column into integer\n",
    "from pyspark.sql.types import *\n",
    "Join_table = Join_table.withColumn(\"track_id\", Join_table[\"track_id\"].cast(IntegerType()))"
   ]
  },
  {
   "cell_type": "code",
   "execution_count": 8,
   "metadata": {},
   "outputs": [],
   "source": [
    "#order by track_id column\n",
    "from pyspark.sql.functions import col\n",
    "Join_table = Join_table.orderBy(Join_table.track_id)"
   ]
  },
  {
   "cell_type": "code",
   "execution_count": 9,
   "metadata": {},
   "outputs": [],
   "source": [
    "#delete duplicate column\n",
    "Join_table = Join_table.drop('feature')"
   ]
  },
  {
   "cell_type": "markdown",
   "metadata": {},
   "source": [
    "#### .printSchema()\n",
    "\n",
    "There are 520 columns in the following dataframe. \n",
    "The first 518 columns are features extracted by LibROSA, which is a python package for music and audio analysis. \n",
    "The last two columns are respectively the identity column \"track_id\" and the target variable \"genre_top\"."
   ]
  },
  {
   "cell_type": "code",
   "execution_count": 10,
   "metadata": {},
   "outputs": [
    {
     "name": "stdout",
     "output_type": "stream",
     "text": [
      "root\n",
      " |-- chroma_cens1: string (nullable = true)\n",
      " |-- chroma_cens2: string (nullable = true)\n",
      " |-- chroma_cens3: string (nullable = true)\n",
      " |-- chroma_cens4: string (nullable = true)\n",
      " |-- chroma_cens5: string (nullable = true)\n",
      " |-- chroma_cens6: string (nullable = true)\n",
      " |-- chroma_cens7: string (nullable = true)\n",
      " |-- chroma_cens8: string (nullable = true)\n",
      " |-- chroma_cens9: string (nullable = true)\n",
      " |-- chroma_cens10: string (nullable = true)\n",
      " |-- chroma_cens11: string (nullable = true)\n",
      " |-- chroma_cens12: string (nullable = true)\n",
      " |-- chroma_cens13: string (nullable = true)\n",
      " |-- chroma_cens14: string (nullable = true)\n",
      " |-- chroma_cens15: string (nullable = true)\n",
      " |-- chroma_cens16: string (nullable = true)\n",
      " |-- chroma_cens17: string (nullable = true)\n",
      " |-- chroma_cens18: string (nullable = true)\n",
      " |-- chroma_cens19: string (nullable = true)\n",
      " |-- chroma_cens20: string (nullable = true)\n",
      " |-- chroma_cens21: string (nullable = true)\n",
      " |-- chroma_cens22: string (nullable = true)\n",
      " |-- chroma_cens23: string (nullable = true)\n",
      " |-- chroma_cens24: string (nullable = true)\n",
      " |-- chroma_cens25: string (nullable = true)\n",
      " |-- chroma_cens26: string (nullable = true)\n",
      " |-- chroma_cens27: string (nullable = true)\n",
      " |-- chroma_cens28: string (nullable = true)\n",
      " |-- chroma_cens29: string (nullable = true)\n",
      " |-- chroma_cens30: string (nullable = true)\n",
      " |-- chroma_cens31: string (nullable = true)\n",
      " |-- chroma_cens32: string (nullable = true)\n",
      " |-- chroma_cens33: string (nullable = true)\n",
      " |-- chroma_cens34: string (nullable = true)\n",
      " |-- chroma_cens35: string (nullable = true)\n",
      " |-- chroma_cens36: string (nullable = true)\n",
      " |-- chroma_cens37: string (nullable = true)\n",
      " |-- chroma_cens38: string (nullable = true)\n",
      " |-- chroma_cens39: string (nullable = true)\n",
      " |-- chroma_cens40: string (nullable = true)\n",
      " |-- chroma_cens41: string (nullable = true)\n",
      " |-- chroma_cens42: string (nullable = true)\n",
      " |-- chroma_cens43: string (nullable = true)\n",
      " |-- chroma_cens44: string (nullable = true)\n",
      " |-- chroma_cens45: string (nullable = true)\n",
      " |-- chroma_cens46: string (nullable = true)\n",
      " |-- chroma_cens47: string (nullable = true)\n",
      " |-- chroma_cens48: string (nullable = true)\n",
      " |-- chroma_cens49: string (nullable = true)\n",
      " |-- chroma_cens50: string (nullable = true)\n",
      " |-- chroma_cens51: string (nullable = true)\n",
      " |-- chroma_cens52: string (nullable = true)\n",
      " |-- chroma_cens53: string (nullable = true)\n",
      " |-- chroma_cens54: string (nullable = true)\n",
      " |-- chroma_cens55: string (nullable = true)\n",
      " |-- chroma_cens56: string (nullable = true)\n",
      " |-- chroma_cens57: string (nullable = true)\n",
      " |-- chroma_cens58: string (nullable = true)\n",
      " |-- chroma_cens59: string (nullable = true)\n",
      " |-- chroma_cens60: string (nullable = true)\n",
      " |-- chroma_cens61: string (nullable = true)\n",
      " |-- chroma_cens62: string (nullable = true)\n",
      " |-- chroma_cens63: string (nullable = true)\n",
      " |-- chroma_cens64: string (nullable = true)\n",
      " |-- chroma_cens65: string (nullable = true)\n",
      " |-- chroma_cens66: string (nullable = true)\n",
      " |-- chroma_cens67: string (nullable = true)\n",
      " |-- chroma_cens68: string (nullable = true)\n",
      " |-- chroma_cens69: string (nullable = true)\n",
      " |-- chroma_cens70: string (nullable = true)\n",
      " |-- chroma_cens71: string (nullable = true)\n",
      " |-- chroma_cens72: string (nullable = true)\n",
      " |-- chroma_cens73: string (nullable = true)\n",
      " |-- chroma_cens74: string (nullable = true)\n",
      " |-- chroma_cens75: string (nullable = true)\n",
      " |-- chroma_cens76: string (nullable = true)\n",
      " |-- chroma_cens77: string (nullable = true)\n",
      " |-- chroma_cens78: string (nullable = true)\n",
      " |-- chroma_cens79: string (nullable = true)\n",
      " |-- chroma_cens80: string (nullable = true)\n",
      " |-- chroma_cens81: string (nullable = true)\n",
      " |-- chroma_cens82: string (nullable = true)\n",
      " |-- chroma_cens83: string (nullable = true)\n",
      " |-- chroma_cens84: string (nullable = true)\n",
      " |-- chroma_cqt85: string (nullable = true)\n",
      " |-- chroma_cqt86: string (nullable = true)\n",
      " |-- chroma_cqt87: string (nullable = true)\n",
      " |-- chroma_cqt88: string (nullable = true)\n",
      " |-- chroma_cqt89: string (nullable = true)\n",
      " |-- chroma_cqt90: string (nullable = true)\n",
      " |-- chroma_cqt91: string (nullable = true)\n",
      " |-- chroma_cqt92: string (nullable = true)\n",
      " |-- chroma_cqt93: string (nullable = true)\n",
      " |-- chroma_cqt94: string (nullable = true)\n",
      " |-- chroma_cqt95: string (nullable = true)\n",
      " |-- chroma_cqt96: string (nullable = true)\n",
      " |-- chroma_cqt97: string (nullable = true)\n",
      " |-- chroma_cqt98: string (nullable = true)\n",
      " |-- chroma_cqt99: string (nullable = true)\n",
      " |-- chroma_cqt100: string (nullable = true)\n",
      " |-- chroma_cqt101: string (nullable = true)\n",
      " |-- chroma_cqt102: string (nullable = true)\n",
      " |-- chroma_cqt103: string (nullable = true)\n",
      " |-- chroma_cqt104: string (nullable = true)\n",
      " |-- chroma_cqt105: string (nullable = true)\n",
      " |-- chroma_cqt106: string (nullable = true)\n",
      " |-- chroma_cqt107: string (nullable = true)\n",
      " |-- chroma_cqt108: string (nullable = true)\n",
      " |-- chroma_cqt109: string (nullable = true)\n",
      " |-- chroma_cqt110: string (nullable = true)\n",
      " |-- chroma_cqt111: string (nullable = true)\n",
      " |-- chroma_cqt112: string (nullable = true)\n",
      " |-- chroma_cqt113: string (nullable = true)\n",
      " |-- chroma_cqt114: string (nullable = true)\n",
      " |-- chroma_cqt115: string (nullable = true)\n",
      " |-- chroma_cqt116: string (nullable = true)\n",
      " |-- chroma_cqt117: string (nullable = true)\n",
      " |-- chroma_cqt118: string (nullable = true)\n",
      " |-- chroma_cqt119: string (nullable = true)\n",
      " |-- chroma_cqt120: string (nullable = true)\n",
      " |-- chroma_cqt121: string (nullable = true)\n",
      " |-- chroma_cqt122: string (nullable = true)\n",
      " |-- chroma_cqt123: string (nullable = true)\n",
      " |-- chroma_cqt124: string (nullable = true)\n",
      " |-- chroma_cqt125: string (nullable = true)\n",
      " |-- chroma_cqt126: string (nullable = true)\n",
      " |-- chroma_cqt127: string (nullable = true)\n",
      " |-- chroma_cqt128: string (nullable = true)\n",
      " |-- chroma_cqt129: string (nullable = true)\n",
      " |-- chroma_cqt130: string (nullable = true)\n",
      " |-- chroma_cqt131: string (nullable = true)\n",
      " |-- chroma_cqt132: string (nullable = true)\n",
      " |-- chroma_cqt133: string (nullable = true)\n",
      " |-- chroma_cqt134: string (nullable = true)\n",
      " |-- chroma_cqt135: string (nullable = true)\n",
      " |-- chroma_cqt136: string (nullable = true)\n",
      " |-- chroma_cqt137: string (nullable = true)\n",
      " |-- chroma_cqt138: string (nullable = true)\n",
      " |-- chroma_cqt139: string (nullable = true)\n",
      " |-- chroma_cqt140: string (nullable = true)\n",
      " |-- chroma_cqt141: string (nullable = true)\n",
      " |-- chroma_cqt142: string (nullable = true)\n",
      " |-- chroma_cqt143: string (nullable = true)\n",
      " |-- chroma_cqt144: string (nullable = true)\n",
      " |-- chroma_cqt145: string (nullable = true)\n",
      " |-- chroma_cqt146: string (nullable = true)\n",
      " |-- chroma_cqt147: string (nullable = true)\n",
      " |-- chroma_cqt148: string (nullable = true)\n",
      " |-- chroma_cqt149: string (nullable = true)\n",
      " |-- chroma_cqt150: string (nullable = true)\n",
      " |-- chroma_cqt151: string (nullable = true)\n",
      " |-- chroma_cqt152: string (nullable = true)\n",
      " |-- chroma_cqt153: string (nullable = true)\n",
      " |-- chroma_cqt154: string (nullable = true)\n",
      " |-- chroma_cqt155: string (nullable = true)\n",
      " |-- chroma_cqt156: string (nullable = true)\n",
      " |-- chroma_cqt157: string (nullable = true)\n",
      " |-- chroma_cqt158: string (nullable = true)\n",
      " |-- chroma_cqt159: string (nullable = true)\n",
      " |-- chroma_cqt160: string (nullable = true)\n",
      " |-- chroma_cqt161: string (nullable = true)\n",
      " |-- chroma_cqt162: string (nullable = true)\n",
      " |-- chroma_cqt163: string (nullable = true)\n",
      " |-- chroma_cqt164: string (nullable = true)\n",
      " |-- chroma_cqt165: string (nullable = true)\n",
      " |-- chroma_cqt166: string (nullable = true)\n",
      " |-- chroma_cqt167: string (nullable = true)\n",
      " |-- chroma_cqt168: string (nullable = true)\n",
      " |-- chroma_stft169: string (nullable = true)\n",
      " |-- chroma_stft170: string (nullable = true)\n",
      " |-- chroma_stft171: string (nullable = true)\n",
      " |-- chroma_stft172: string (nullable = true)\n",
      " |-- chroma_stft173: string (nullable = true)\n",
      " |-- chroma_stft174: string (nullable = true)\n",
      " |-- chroma_stft175: string (nullable = true)\n",
      " |-- chroma_stft176: string (nullable = true)\n",
      " |-- chroma_stft177: string (nullable = true)\n",
      " |-- chroma_stft178: string (nullable = true)\n",
      " |-- chroma_stft179: string (nullable = true)\n",
      " |-- chroma_stft180: string (nullable = true)\n",
      " |-- chroma_stft181: string (nullable = true)\n",
      " |-- chroma_stft182: string (nullable = true)\n",
      " |-- chroma_stft183: string (nullable = true)\n",
      " |-- chroma_stft184: string (nullable = true)\n",
      " |-- chroma_stft185: string (nullable = true)\n",
      " |-- chroma_stft186: string (nullable = true)\n",
      " |-- chroma_stft187: string (nullable = true)\n",
      " |-- chroma_stft188: string (nullable = true)\n",
      " |-- chroma_stft189: string (nullable = true)\n",
      " |-- chroma_stft190: string (nullable = true)\n",
      " |-- chroma_stft191: string (nullable = true)\n",
      " |-- chroma_stft192: string (nullable = true)\n",
      " |-- chroma_stft193: string (nullable = true)\n",
      " |-- chroma_stft194: string (nullable = true)\n",
      " |-- chroma_stft195: string (nullable = true)\n",
      " |-- chroma_stft196: string (nullable = true)\n",
      " |-- chroma_stft197: string (nullable = true)\n",
      " |-- chroma_stft198: string (nullable = true)\n",
      " |-- chroma_stft199: string (nullable = true)\n",
      " |-- chroma_stft200: string (nullable = true)\n",
      " |-- chroma_stft201: string (nullable = true)\n",
      " |-- chroma_stft202: string (nullable = true)\n",
      " |-- chroma_stft203: string (nullable = true)\n",
      " |-- chroma_stft204: string (nullable = true)\n",
      " |-- chroma_stft205: string (nullable = true)\n",
      " |-- chroma_stft206: string (nullable = true)\n",
      " |-- chroma_stft207: string (nullable = true)\n",
      " |-- chroma_stft208: string (nullable = true)\n",
      " |-- chroma_stft209: string (nullable = true)\n",
      " |-- chroma_stft210: string (nullable = true)\n",
      " |-- chroma_stft211: string (nullable = true)\n",
      " |-- chroma_stft212: string (nullable = true)\n",
      " |-- chroma_stft213: string (nullable = true)\n",
      " |-- chroma_stft214: string (nullable = true)\n",
      " |-- chroma_stft215: string (nullable = true)\n",
      " |-- chroma_stft216: string (nullable = true)\n",
      " |-- chroma_stft217: string (nullable = true)\n",
      " |-- chroma_stft218: string (nullable = true)\n",
      " |-- chroma_stft219: string (nullable = true)\n",
      " |-- chroma_stft220: string (nullable = true)\n",
      " |-- chroma_stft221: string (nullable = true)\n",
      " |-- chroma_stft222: string (nullable = true)\n",
      " |-- chroma_stft223: string (nullable = true)\n",
      " |-- chroma_stft224: string (nullable = true)\n",
      " |-- chroma_stft225: string (nullable = true)\n",
      " |-- chroma_stft226: string (nullable = true)\n",
      " |-- chroma_stft227: string (nullable = true)\n",
      " |-- chroma_stft228: string (nullable = true)\n",
      " |-- chroma_stft229: string (nullable = true)\n",
      " |-- chroma_stft230: string (nullable = true)\n",
      " |-- chroma_stft231: string (nullable = true)\n",
      " |-- chroma_stft232: string (nullable = true)\n",
      " |-- chroma_stft233: string (nullable = true)\n",
      " |-- chroma_stft234: string (nullable = true)\n",
      " |-- chroma_stft235: string (nullable = true)\n",
      " |-- chroma_stft236: string (nullable = true)\n",
      " |-- chroma_stft237: string (nullable = true)\n",
      " |-- chroma_stft238: string (nullable = true)\n",
      " |-- chroma_stft239: string (nullable = true)\n",
      " |-- chroma_stft240: string (nullable = true)\n",
      " |-- chroma_stft241: string (nullable = true)\n",
      " |-- chroma_stft242: string (nullable = true)\n",
      " |-- chroma_stft243: string (nullable = true)\n",
      " |-- chroma_stft244: string (nullable = true)\n",
      " |-- chroma_stft245: string (nullable = true)\n",
      " |-- chroma_stft246: string (nullable = true)\n",
      " |-- chroma_stft247: string (nullable = true)\n",
      " |-- chroma_stft248: string (nullable = true)\n",
      " |-- chroma_stft249: string (nullable = true)\n",
      " |-- chroma_stft250: string (nullable = true)\n",
      " |-- chroma_stft251: string (nullable = true)\n",
      " |-- chroma_stft252: string (nullable = true)\n",
      " |-- mfcc253: string (nullable = true)\n",
      " |-- mfcc254: string (nullable = true)\n",
      " |-- mfcc255: string (nullable = true)\n",
      " |-- mfcc256: string (nullable = true)\n",
      " |-- mfcc257: string (nullable = true)\n",
      " |-- mfcc258: string (nullable = true)\n",
      " |-- mfcc259: string (nullable = true)\n",
      " |-- mfcc260: string (nullable = true)\n",
      " |-- mfcc261: string (nullable = true)\n",
      " |-- mfcc262: string (nullable = true)\n",
      " |-- mfcc263: string (nullable = true)\n",
      " |-- mfcc264: string (nullable = true)\n",
      " |-- mfcc265: string (nullable = true)\n",
      " |-- mfcc266: string (nullable = true)\n",
      " |-- mfcc267: string (nullable = true)\n",
      " |-- mfcc268: string (nullable = true)\n",
      " |-- mfcc269: string (nullable = true)\n",
      " |-- mfcc270: string (nullable = true)\n",
      " |-- mfcc271: string (nullable = true)\n",
      " |-- mfcc272: string (nullable = true)\n",
      " |-- mfcc273: string (nullable = true)\n",
      " |-- mfcc274: string (nullable = true)\n",
      " |-- mfcc275: string (nullable = true)\n",
      " |-- mfcc276: string (nullable = true)\n",
      " |-- mfcc277: string (nullable = true)\n",
      " |-- mfcc278: string (nullable = true)\n",
      " |-- mfcc279: string (nullable = true)\n",
      " |-- mfcc280: string (nullable = true)\n",
      " |-- mfcc281: string (nullable = true)\n",
      " |-- mfcc282: string (nullable = true)\n",
      " |-- mfcc283: string (nullable = true)\n",
      " |-- mfcc284: string (nullable = true)\n",
      " |-- mfcc285: string (nullable = true)\n",
      " |-- mfcc286: string (nullable = true)\n",
      " |-- mfcc287: string (nullable = true)\n",
      " |-- mfcc288: string (nullable = true)\n",
      " |-- mfcc289: string (nullable = true)\n",
      " |-- mfcc290: string (nullable = true)\n",
      " |-- mfcc291: string (nullable = true)\n",
      " |-- mfcc292: string (nullable = true)\n",
      " |-- mfcc293: string (nullable = true)\n",
      " |-- mfcc294: string (nullable = true)\n",
      " |-- mfcc295: string (nullable = true)\n",
      " |-- mfcc296: string (nullable = true)\n",
      " |-- mfcc297: string (nullable = true)\n",
      " |-- mfcc298: string (nullable = true)\n",
      " |-- mfcc299: string (nullable = true)\n",
      " |-- mfcc300: string (nullable = true)\n",
      " |-- mfcc301: string (nullable = true)\n",
      " |-- mfcc302: string (nullable = true)\n",
      " |-- mfcc303: string (nullable = true)\n",
      " |-- mfcc304: string (nullable = true)\n",
      " |-- mfcc305: string (nullable = true)\n",
      " |-- mfcc306: string (nullable = true)\n",
      " |-- mfcc307: string (nullable = true)\n",
      " |-- mfcc308: string (nullable = true)\n",
      " |-- mfcc309: string (nullable = true)\n",
      " |-- mfcc310: string (nullable = true)\n",
      " |-- mfcc311: string (nullable = true)\n",
      " |-- mfcc312: string (nullable = true)\n",
      " |-- mfcc313: string (nullable = true)\n",
      " |-- mfcc314: string (nullable = true)\n",
      " |-- mfcc315: string (nullable = true)\n",
      " |-- mfcc316: string (nullable = true)\n",
      " |-- mfcc317: string (nullable = true)\n",
      " |-- mfcc318: string (nullable = true)\n",
      " |-- mfcc319: string (nullable = true)\n",
      " |-- mfcc320: string (nullable = true)\n",
      " |-- mfcc321: string (nullable = true)\n",
      " |-- mfcc322: string (nullable = true)\n",
      " |-- mfcc323: string (nullable = true)\n",
      " |-- mfcc324: string (nullable = true)\n",
      " |-- mfcc325: string (nullable = true)\n",
      " |-- mfcc326: string (nullable = true)\n",
      " |-- mfcc327: string (nullable = true)\n",
      " |-- mfcc328: string (nullable = true)\n",
      " |-- mfcc329: string (nullable = true)\n",
      " |-- mfcc330: string (nullable = true)\n",
      " |-- mfcc331: string (nullable = true)\n",
      " |-- mfcc332: string (nullable = true)\n",
      " |-- mfcc333: string (nullable = true)\n",
      " |-- mfcc334: string (nullable = true)\n",
      " |-- mfcc335: string (nullable = true)\n",
      " |-- mfcc336: string (nullable = true)\n",
      " |-- mfcc337: string (nullable = true)\n",
      " |-- mfcc338: string (nullable = true)\n",
      " |-- mfcc339: string (nullable = true)\n",
      " |-- mfcc340: string (nullable = true)\n",
      " |-- mfcc341: string (nullable = true)\n",
      " |-- mfcc342: string (nullable = true)\n",
      " |-- mfcc343: string (nullable = true)\n",
      " |-- mfcc344: string (nullable = true)\n",
      " |-- mfcc345: string (nullable = true)\n",
      " |-- mfcc346: string (nullable = true)\n",
      " |-- mfcc347: string (nullable = true)\n",
      " |-- mfcc348: string (nullable = true)\n",
      " |-- mfcc349: string (nullable = true)\n",
      " |-- mfcc350: string (nullable = true)\n",
      " |-- mfcc351: string (nullable = true)\n",
      " |-- mfcc352: string (nullable = true)\n",
      " |-- mfcc353: string (nullable = true)\n",
      " |-- mfcc354: string (nullable = true)\n",
      " |-- mfcc355: string (nullable = true)\n",
      " |-- mfcc356: string (nullable = true)\n",
      " |-- mfcc357: string (nullable = true)\n",
      " |-- mfcc358: string (nullable = true)\n",
      " |-- mfcc359: string (nullable = true)\n",
      " |-- mfcc360: string (nullable = true)\n",
      " |-- mfcc361: string (nullable = true)\n",
      " |-- mfcc362: string (nullable = true)\n",
      " |-- mfcc363: string (nullable = true)\n",
      " |-- mfcc364: string (nullable = true)\n",
      " |-- mfcc365: string (nullable = true)\n",
      " |-- mfcc366: string (nullable = true)\n",
      " |-- mfcc367: string (nullable = true)\n",
      " |-- mfcc368: string (nullable = true)\n",
      " |-- mfcc369: string (nullable = true)\n",
      " |-- mfcc370: string (nullable = true)\n",
      " |-- mfcc371: string (nullable = true)\n",
      " |-- mfcc372: string (nullable = true)\n",
      " |-- mfcc373: string (nullable = true)\n",
      " |-- mfcc374: string (nullable = true)\n",
      " |-- mfcc375: string (nullable = true)\n",
      " |-- mfcc376: string (nullable = true)\n",
      " |-- mfcc377: string (nullable = true)\n",
      " |-- mfcc378: string (nullable = true)\n",
      " |-- mfcc379: string (nullable = true)\n",
      " |-- mfcc380: string (nullable = true)\n",
      " |-- mfcc381: string (nullable = true)\n",
      " |-- mfcc382: string (nullable = true)\n",
      " |-- mfcc383: string (nullable = true)\n",
      " |-- mfcc384: string (nullable = true)\n",
      " |-- mfcc385: string (nullable = true)\n",
      " |-- mfcc386: string (nullable = true)\n",
      " |-- mfcc387: string (nullable = true)\n",
      " |-- mfcc388: string (nullable = true)\n",
      " |-- mfcc389: string (nullable = true)\n",
      " |-- mfcc390: string (nullable = true)\n",
      " |-- mfcc391: string (nullable = true)\n",
      " |-- mfcc392: string (nullable = true)\n",
      " |-- rmse393: string (nullable = true)\n",
      " |-- rmse394: string (nullable = true)\n",
      " |-- rmse395: string (nullable = true)\n",
      " |-- rmse396: string (nullable = true)\n",
      " |-- rmse397: string (nullable = true)\n",
      " |-- rmse398: string (nullable = true)\n",
      " |-- rmse399: string (nullable = true)\n",
      " |-- spectral_bandwidth400: string (nullable = true)\n",
      " |-- spectral_bandwidth401: string (nullable = true)\n",
      " |-- spectral_bandwidth402: string (nullable = true)\n",
      " |-- spectral_bandwidth403: string (nullable = true)\n",
      " |-- spectral_bandwidth404: string (nullable = true)\n",
      " |-- spectral_bandwidth405: string (nullable = true)\n",
      " |-- spectral_bandwidth406: string (nullable = true)\n",
      " |-- spectral_centroid407: string (nullable = true)\n",
      " |-- spectral_centroid408: string (nullable = true)\n",
      " |-- spectral_centroid409: string (nullable = true)\n",
      " |-- spectral_centroid410: string (nullable = true)\n",
      " |-- spectral_centroid411: string (nullable = true)\n",
      " |-- spectral_centroid412: string (nullable = true)\n",
      " |-- spectral_centroid413: string (nullable = true)\n",
      " |-- spectral_contrast414: string (nullable = true)\n",
      " |-- spectral_contrast415: string (nullable = true)\n",
      " |-- spectral_contrast416: string (nullable = true)\n",
      " |-- spectral_contrast417: string (nullable = true)\n",
      " |-- spectral_contrast418: string (nullable = true)\n",
      " |-- spectral_contrast419: string (nullable = true)\n",
      " |-- spectral_contrast420: string (nullable = true)\n",
      " |-- spectral_contrast421: string (nullable = true)\n",
      " |-- spectral_contrast422: string (nullable = true)\n",
      " |-- spectral_contrast423: string (nullable = true)\n",
      " |-- spectral_contrast424: string (nullable = true)\n",
      " |-- spectral_contrast425: string (nullable = true)\n",
      " |-- spectral_contrast426: string (nullable = true)\n",
      " |-- spectral_contrast427: string (nullable = true)\n",
      " |-- spectral_contrast428: string (nullable = true)\n",
      " |-- spectral_contrast429: string (nullable = true)\n",
      " |-- spectral_contrast430: string (nullable = true)\n",
      " |-- spectral_contrast431: string (nullable = true)\n",
      " |-- spectral_contrast432: string (nullable = true)\n",
      " |-- spectral_contrast433: string (nullable = true)\n",
      " |-- spectral_contrast434: string (nullable = true)\n",
      " |-- spectral_contrast435: string (nullable = true)\n",
      " |-- spectral_contrast436: string (nullable = true)\n",
      " |-- spectral_contrast437: string (nullable = true)\n",
      " |-- spectral_contrast438: string (nullable = true)\n",
      " |-- spectral_contrast439: string (nullable = true)\n",
      " |-- spectral_contrast440: string (nullable = true)\n",
      " |-- spectral_contrast441: string (nullable = true)\n",
      " |-- spectral_contrast442: string (nullable = true)\n",
      " |-- spectral_contrast443: string (nullable = true)\n",
      " |-- spectral_contrast444: string (nullable = true)\n",
      " |-- spectral_contrast445: string (nullable = true)\n",
      " |-- spectral_contrast446: string (nullable = true)\n",
      " |-- spectral_contrast447: string (nullable = true)\n",
      " |-- spectral_contrast448: string (nullable = true)\n",
      " |-- spectral_contrast449: string (nullable = true)\n",
      " |-- spectral_contrast450: string (nullable = true)\n",
      " |-- spectral_contrast451: string (nullable = true)\n",
      " |-- spectral_contrast452: string (nullable = true)\n",
      " |-- spectral_contrast453: string (nullable = true)\n",
      " |-- spectral_contrast454: string (nullable = true)\n",
      " |-- spectral_contrast455: string (nullable = true)\n",
      " |-- spectral_contrast456: string (nullable = true)\n",
      " |-- spectral_contrast457: string (nullable = true)\n",
      " |-- spectral_contrast458: string (nullable = true)\n",
      " |-- spectral_contrast459: string (nullable = true)\n",
      " |-- spectral_contrast460: string (nullable = true)\n",
      " |-- spectral_contrast461: string (nullable = true)\n",
      " |-- spectral_contrast462: string (nullable = true)\n",
      " |-- spectral_rolloff463: string (nullable = true)\n",
      " |-- spectral_rolloff464: string (nullable = true)\n",
      " |-- spectral_rolloff465: string (nullable = true)\n",
      " |-- spectral_rolloff466: string (nullable = true)\n",
      " |-- spectral_rolloff467: string (nullable = true)\n",
      " |-- spectral_rolloff468: string (nullable = true)\n",
      " |-- spectral_rolloff469: string (nullable = true)\n",
      " |-- tonnetz470: string (nullable = true)\n",
      " |-- tonnetz471: string (nullable = true)\n",
      " |-- tonnetz472: string (nullable = true)\n",
      " |-- tonnetz473: string (nullable = true)\n",
      " |-- tonnetz474: string (nullable = true)\n",
      " |-- tonnetz475: string (nullable = true)\n",
      " |-- tonnetz476: string (nullable = true)\n",
      " |-- tonnetz477: string (nullable = true)\n",
      " |-- tonnetz478: string (nullable = true)\n",
      " |-- tonnetz479: string (nullable = true)\n",
      " |-- tonnetz480: string (nullable = true)\n",
      " |-- tonnetz481: string (nullable = true)\n",
      " |-- tonnetz482: string (nullable = true)\n",
      " |-- tonnetz483: string (nullable = true)\n",
      " |-- tonnetz484: string (nullable = true)\n",
      " |-- tonnetz485: string (nullable = true)\n",
      " |-- tonnetz486: string (nullable = true)\n",
      " |-- tonnetz487: string (nullable = true)\n",
      " |-- tonnetz488: string (nullable = true)\n",
      " |-- tonnetz489: string (nullable = true)\n",
      " |-- tonnetz490: string (nullable = true)\n",
      " |-- tonnetz491: string (nullable = true)\n",
      " |-- tonnetz492: string (nullable = true)\n",
      " |-- tonnetz493: string (nullable = true)\n",
      " |-- tonnetz494: string (nullable = true)\n",
      " |-- tonnetz495: string (nullable = true)\n",
      " |-- tonnetz496: string (nullable = true)\n",
      " |-- tonnetz497: string (nullable = true)\n",
      " |-- tonnetz498: string (nullable = true)\n",
      " |-- tonnetz499: string (nullable = true)\n",
      " |-- tonnetz500: string (nullable = true)\n",
      " |-- tonnetz501: string (nullable = true)\n",
      " |-- tonnetz502: string (nullable = true)\n",
      " |-- tonnetz503: string (nullable = true)\n",
      " |-- tonnetz504: string (nullable = true)\n",
      " |-- tonnetz505: string (nullable = true)\n",
      " |-- tonnetz506: string (nullable = true)\n",
      " |-- tonnetz507: string (nullable = true)\n",
      " |-- tonnetz508: string (nullable = true)\n",
      " |-- tonnetz509: string (nullable = true)\n",
      " |-- tonnetz510: string (nullable = true)\n",
      " |-- tonnetz511: string (nullable = true)\n",
      " |-- zcr512: string (nullable = true)\n",
      " |-- zcr513: string (nullable = true)\n",
      " |-- zcr514: string (nullable = true)\n",
      " |-- zcr515: string (nullable = true)\n",
      " |-- zcr516: string (nullable = true)\n",
      " |-- zcr517: string (nullable = true)\n",
      " |-- zcr518: string (nullable = true)\n",
      " |-- track_id: integer (nullable = true)\n",
      " |-- genre_top: string (nullable = true)\n",
      "\n"
     ]
    }
   ],
   "source": [
    "Join_table.printSchema()"
   ]
  },
  {
   "cell_type": "markdown",
   "metadata": {},
   "source": [
    "Create a TempView and filter out distinct values of target variables:\n",
    "\n",
    "We selected the top 13 categories of genre label: \n",
    "1. Experimental\n",
    "2. Electronic\n",
    "3. Rock\n",
    "4. Instrumental\n",
    "5. Pop\n",
    "6. Folk\n",
    "7. Hip-Hop\n",
    "8. International\n",
    "9. Jazz\n",
    "10. Classical\n",
    "11. Country\n",
    "12. Spoken\n",
    "13. Blues"
   ]
  },
  {
   "cell_type": "code",
   "execution_count": 11,
   "metadata": {},
   "outputs": [],
   "source": [
    "Join_table.createOrReplaceTempView(\"Join_table\")"
   ]
  },
  {
   "cell_type": "code",
   "execution_count": 12,
   "metadata": {},
   "outputs": [],
   "source": [
    "cleaned_df = spark.sql(\"select * from Join_table where genre_top in ('Experimental','Electronic','Rock','Instrumental','Pop','Folk','Hip-Hop','International','Jazz','Classical','Country','Spoken','Blues') \")"
   ]
  },
  {
   "cell_type": "markdown",
   "metadata": {},
   "source": [
    "#### cleaned_df\n",
    "This dataframe now has an identity column, a label column and 518 feature columns for feature engineering and modeling."
   ]
  },
  {
   "cell_type": "code",
   "execution_count": 13,
   "metadata": {},
   "outputs": [
    {
     "data": {
      "text/plain": [
       "11105"
      ]
     },
     "execution_count": 13,
     "metadata": {},
     "output_type": "execute_result"
    }
   ],
   "source": [
    "cleaned_df.count() # The No. of row of the dataframe"
   ]
  },
  {
   "cell_type": "markdown",
   "metadata": {},
   "source": [
    "The number of rows now decreases drastically, because there are a lot of missing values in this column."
   ]
  },
  {
   "cell_type": "markdown",
   "metadata": {},
   "source": [
    "## Exploratory data analysis"
   ]
  },
  {
   "cell_type": "code",
   "execution_count": 14,
   "metadata": {},
   "outputs": [],
   "source": [
    "from pyspark.sql.types import DoubleType\n",
    "import matplotlib.pyplot as plt\n",
    "from pyspark.ml.feature import VectorAssembler\n",
    "from pyspark.ml.stat import Correlation\n",
    "import numpy as np\n",
    "import seaborn as sns"
   ]
  },
  {
   "cell_type": "markdown",
   "metadata": {},
   "source": [
    "### 1. Check the balance of the target variable"
   ]
  },
  {
   "cell_type": "code",
   "execution_count": 15,
   "metadata": {},
   "outputs": [],
   "source": [
    "import pyspark.sql.functions as F\n",
    "from pyspark.sql.functions import bround\n",
    "check_balance = cleaned_df.groupBy(\"genre_top\").count()\n",
    "check_balance = check_balance.withColumn(\"Percentage\",bround(F.col(\"count\")/11105,2))"
   ]
  },
  {
   "cell_type": "code",
   "execution_count": 16,
   "metadata": {},
   "outputs": [
    {
     "name": "stdout",
     "output_type": "stream",
     "text": [
      "+-------------+-----+----------+\n",
      "|    genre_top|count|Percentage|\n",
      "+-------------+-----+----------+\n",
      "|International|  276|      0.02|\n",
      "| Instrumental|  689|      0.06|\n",
      "|         Rock| 2557|      0.23|\n",
      "|         Jazz|  125|      0.01|\n",
      "|         Folk|  919|      0.08|\n",
      "|    Classical|  160|      0.01|\n",
      "|        Blues|   13|       0.0|\n",
      "| Experimental| 1993|      0.18|\n",
      "|       Spoken|   64|      0.01|\n",
      "|          Pop|  554|      0.05|\n",
      "|   Electronic| 3069|      0.28|\n",
      "|      Country|   68|      0.01|\n",
      "|      Hip-Hop|  618|      0.06|\n",
      "+-------------+-----+----------+\n",
      "\n"
     ]
    }
   ],
   "source": [
    "check_balance.show()"
   ]
  },
  {
   "cell_type": "code",
   "execution_count": 17,
   "metadata": {},
   "outputs": [
    {
     "name": "stderr",
     "output_type": "stream",
     "text": [
      "/usr/lib/spark/python/pyspark/sql/dataframe.py:2103: UserWarning: toPandas attempted Arrow optimization because 'spark.sql.execution.arrow.enabled' is set to true; however, failed by the reason below:\n",
      "  PyArrow >= 0.8.0 must be installed; however, it was not found.\n",
      "Attempting non-optimization as 'spark.sql.execution.arrow.fallback.enabled' is set to true.\n",
      "  warnings.warn(msg)\n"
     ]
    }
   ],
   "source": [
    "check_balance = check_balance.toPandas()"
   ]
  },
  {
   "cell_type": "code",
   "execution_count": 18,
   "metadata": {},
   "outputs": [
    {
     "data": {
      "image/png": "[encoded data removed]",
      "text/plain": [
       "<Figure size 576x432 with 1 Axes>"
      ]
     },
     "metadata": {
      "needs_background": "light"
     },
     "output_type": "display_data"
    }
   ],
   "source": [
    "fig = plt.figure(figsize=(8,6))\n",
    "ax = sns.barplot(x=\"genre_top\", y=\"count\", data=check_balance)\n",
    "ax.set_title(\"Distribution of genres\")\n",
    "ax.set_xticklabels(ax.get_xticklabels(), rotation=40, ha=\"right\")\n",
    "plt.show()"
   ]
  },
  {
   "cell_type": "markdown",
   "metadata": {},
   "source": [
    "The data is not very balanced, The \"Rock\" label, \"Electorinic' label and 'Experimental' label take up 70% among all labels and all other label types only take up 30%."
   ]
  },
  {
   "cell_type": "markdown",
   "metadata": {},
   "source": [
    "### 2. Check the collinearity of features"
   ]
  },
  {
   "cell_type": "markdown",
   "metadata": {},
   "source": [
    "#### The features we selected for supervised learning temporarily:\n",
    " \n",
    "1. chroma_cens1\n",
    "2. chroma_cqt85\n",
    "3. chroma_stft169\n",
    "4. mfcc253\n",
    "5. spectral_bandwidth400\n",
    "6. spectral_centroid407\n",
    "7. spectral_contrast414\n",
    "8. spectral_rolloff463\n",
    "9. tonnetz470\n",
    "10. zcr512"
   ]
  },
  {
   "cell_type": "code",
   "execution_count": 19,
   "metadata": {},
   "outputs": [],
   "source": [
    "features = ['chroma_cens1', 'chroma_cqt85', 'chroma_stft169', 'mfcc253', 'spectral_bandwidth400',\n",
    "           'spectral_centroid407', 'spectral_contrast414', 'spectral_rolloff463', 'tonnetz470', \n",
    "           'zcr512']\n",
    "\n",
    "myGraph=cleaned_df[features]\n",
    "for col in features:\n",
    "    myGraph = myGraph.withColumn(col,myGraph[col].cast(DoubleType()))\n",
    "\n",
    "vector_col = \"corr_features\"\n",
    "assembler = VectorAssembler(inputCols=features, \n",
    "                            outputCol=vector_col)\n",
    "myGraph_vector = assembler.transform(myGraph).select(vector_col)\n",
    "matrix = Correlation.corr(myGraph_vector, vector_col)\n",
    "\n",
    "matrix = Correlation.corr(myGraph_vector, vector_col).collect()[0][0]\n",
    "corrmatrix = matrix.toArray()"
   ]
  },
  {
   "cell_type": "code",
   "execution_count": 20,
   "metadata": {},
   "outputs": [
    {
     "data": {
      "image/png": "[encoded data removed]",
      "text/plain": [
       "<Figure size 1440x1440 with 2 Axes>"
      ]
     },
     "metadata": {
      "needs_background": "light"
     },
     "output_type": "display_data"
    }
   ],
   "source": [
    "fig = plt.figure(figsize=(20,20))\n",
    "cmap = sns.cubehelix_palette(light=1, as_cmap = True)\n",
    "ax = sns.heatmap(corrmatrix, annot=True, cmap = cmap)\n",
    "ax.set_title(\"Correlation Matrix for Selected Features\")\n",
    "ax.set_xticklabels(features)\n",
    "ax.set_yticklabels(features)\n",
    "plt.show()"
   ]
  },
  {
   "cell_type": "markdown",
   "metadata": {},
   "source": [
    "Fome the above correlation plot, we can conclude that feature 'spectral_rolloff463' have a relatively strong and positive relationship with spectral_bandwidth400' and 'spectral_centroid407', while others are weakly or not correlated. So we decide to exclude this feature when conduct machine learning models.\n",
    "\n",
    "Therefore, the features selected for now is:\n",
    "\n",
    "1. chroma_cens1\n",
    "2. chroma_cqt85\n",
    "3. chroma_stft169\n",
    "4. mfcc253\n",
    "5. spectral_bandwidth400\n",
    "6. spectral_centroid407\n",
    "7. spectral_contrast414\n",
    "8. tonnetz470\n",
    "9. zcr512"
   ]
  },
  {
   "cell_type": "markdown",
   "metadata": {},
   "source": [
    "### 3. Check the distribution of features"
   ]
  },
  {
   "cell_type": "code",
   "execution_count": 21,
   "metadata": {},
   "outputs": [],
   "source": [
    "features = ['chroma_cens1', 'chroma_cqt85', 'chroma_stft169', 'mfcc253', 'spectral_bandwidth400',\n",
    "           'spectral_centroid407', 'spectral_contrast414', 'tonnetz470', 'zcr512']"
   ]
  },
  {
   "cell_type": "code",
   "execution_count": null,
   "metadata": {},
   "outputs": [],
   "source": [
    "df = cleaned_df.toPandas()"
   ]
  },
  {
   "cell_type": "code",
   "execution_count": null,
   "metadata": {},
   "outputs": [],
   "source": [
    "new_df = pd.DataFrame(df['genre_top'])\n",
    "for col in features:\n",
    "    new_df[col] = df[col]"
   ]
  },
  {
   "cell_type": "code",
   "execution_count": null,
   "metadata": {},
   "outputs": [],
   "source": [
    "for col in features:\n",
    "    new_df[col] = pd.to_numeric(new_df[col], errors='coerce')"
   ]
  },
  {
   "cell_type": "code",
   "execution_count": null,
   "metadata": {},
   "outputs": [],
   "source": [
    "for col in features:\n",
    "    fig = plt.figure(figsize=(6,4))   \n",
    "    ax = sns.distplot(new_df[col], hist=False, rug=True)\n",
    "    ax.set_title(f\"Distribution of feature:{col}\")\n",
    "    #ax.set(xlim=(-5, 5))\n",
    "    plt.show()"
   ]
  },
  {
   "cell_type": "markdown",
   "metadata": {},
   "source": [
    "From the above plots, we can conclude that the distribution of all features are highly skewed to the right,and there are outliers for each feature, but since there are infinite possible ways to make a song, they are not exactly \"outliers\", so we will keep those numbers this time."
   ]
  },
  {
   "cell_type": "markdown",
   "metadata": {},
   "source": [
    "## Unsupervised Learning: K-means Clustering\n",
    "\n",
    "### 1. Prepare the data\n",
    "\n",
    "Remove \"spectral_rolloff463\" and \"genre_top\" from our data and convert all data to float. We pretend there are no labels in our data set."
   ]
  },
  {
   "cell_type": "code",
   "execution_count": null,
   "metadata": {},
   "outputs": [],
   "source": [
    "cols = ['track_id','chroma_cens1', 'chroma_cqt85', 'chroma_stft169', 'mfcc253', 'spectral_bandwidth400',\n",
    "           'spectral_centroid407', 'spectral_contrast414', 'tonnetz470', 'zcr512']\n",
    "unsup_df = cleaned_df[cols]\n",
    "for col in unsup_df.columns:\n",
    "    unsup_df = unsup_df.withColumn(col,unsup_df[col].cast('float'))"
   ]
  },
  {
   "cell_type": "code",
   "execution_count": null,
   "metadata": {},
   "outputs": [],
   "source": [
    "unsup_df.printSchema()"
   ]
  },
  {
   "cell_type": "markdown",
   "metadata": {},
   "source": [
    "Drop the null values"
   ]
  },
  {
   "cell_type": "code",
   "execution_count": null,
   "metadata": {},
   "outputs": [],
   "source": [
    "unsup_df = unsup_df.na.drop()"
   ]
  },
  {
   "cell_type": "markdown",
   "metadata": {},
   "source": [
    "Create a feature vector which stores all features as an array of floats"
   ]
  },
  {
   "cell_type": "code",
   "execution_count": null,
   "metadata": {},
   "outputs": [],
   "source": [
    "import numpy as np\n",
    "import pandas as pd\n",
    "import matplotlib.pyplot as plt\n",
    "from mpl_toolkits.mplot3d import Axes3D\n",
    "from sklearn.datasets.samples_generator import make_blobs\n",
    "from pyspark.ml.clustering import KMeans\n",
    "from pyspark.ml.feature import VectorAssembler\n",
    "from pyspark.sql import SQLContext"
   ]
  },
  {
   "cell_type": "code",
   "execution_count": null,
   "metadata": {},
   "outputs": [],
   "source": [
    "selected_features = ['chroma_cens1', 'chroma_cqt85', 'chroma_stft169', 'mfcc253', 'spectral_bandwidth400',\n",
    "           'spectral_centroid407', 'spectral_contrast414', 'tonnetz470', 'zcr512']\n",
    "vecAssembler = VectorAssembler(inputCols=selected_features, outputCol=\"features\")\n",
    "df_kmeans = vecAssembler.transform(unsup_df).select(\"track_id\",\"features\")"
   ]
  },
  {
   "cell_type": "code",
   "execution_count": null,
   "metadata": {},
   "outputs": [],
   "source": [
    "df_kmeans.show()"
   ]
  },
  {
   "cell_type": "markdown",
   "metadata": {},
   "source": [
    "### 2. Optimize choice of k\n",
    "\n",
    "To optimize k we cluster a fraction of the data for different choices of k and look for an \"elbow\" in the cost function."
   ]
  },
  {
   "cell_type": "code",
   "execution_count": null,
   "metadata": {},
   "outputs": [],
   "source": [
    "cost = np.zeros(20)\n",
    "for k in range(2,20):\n",
    "    kmeans = KMeans().setK(k).setSeed(1).setFeaturesCol(\"features\")\n",
    "    model = kmeans.fit(df_kmeans.sample(False,0.1, seed=42))\n",
    "    cost[k] = model.computeCost(df_kmeans)"
   ]
  },
  {
   "cell_type": "code",
   "execution_count": null,
   "metadata": {},
   "outputs": [],
   "source": [
    "fig, ax = plt.subplots(1,1, figsize =(8,6))\n",
    "ax.plot(range(2,20),cost[2:20])\n",
    "ax.set_xlabel('k')\n",
    "ax.set_ylabel('cost')"
   ]
  },
  {
   "cell_type": "markdown",
   "metadata": {},
   "source": [
    "Look like there is very little gain after k=13 , which is also the number of track genres we have selected, so we stick to that choice when processing the full data set."
   ]
  },
  {
   "cell_type": "markdown",
   "metadata": {},
   "source": [
    "### 3. Train the model"
   ]
  },
  {
   "cell_type": "code",
   "execution_count": null,
   "metadata": {},
   "outputs": [],
   "source": [
    "#convert the type of track_id column into integer\n",
    "from pyspark.sql.types import *\n",
    "Join_table = Join_table.withColumn(\"track_id\", Join_table[\"track_id\"].cast(IntegerType()))"
   ]
  },
  {
   "cell_type": "markdown",
   "metadata": {},
   "source": [
    "Once the training has converged we can print out the centroids of the 13 clusters."
   ]
  },
  {
   "cell_type": "code",
   "execution_count": null,
   "metadata": {},
   "outputs": [],
   "source": [
    "k = 13\n",
    "kmeans = KMeans().setK(k).setSeed(1).setFeaturesCol(\"features\")\n",
    "model = kmeans.fit(df_kmeans)\n",
    "centers = model.clusterCenters()\n",
    "\n",
    "print(\"Cluster Centers: \")\n",
    "for center in centers:\n",
    "    print(center)"
   ]
  },
  {
   "cell_type": "code",
   "execution_count": null,
   "metadata": {},
   "outputs": [],
   "source": [
    "Make predictions"
   ]
  },
  {
   "cell_type": "markdown",
   "metadata": {},
   "source": [
    "### 4. Evaluate the model\n",
    "\n",
    "Evaluate clustering"
   ]
  },
  {
   "cell_type": "code",
   "execution_count": null,
   "metadata": {},
   "outputs": [],
   "source": [
    "cost = model.computeCost(df_kmeans)\n",
    "print(\"Within Set Sum of Squared Errors = \" + str(cost))"
   ]
  },
  {
   "cell_type": "markdown",
   "metadata": {},
   "source": [
    "Evaluate clustering by computing Silhouette score.\n",
    "\n",
    "* If this number is negative, the data cannot be separated at all.\n",
    "* Values closer to 1 indicate maximum separation.\n",
    "* Values close to zero mean the data could barely be separated."
   ]
  },
  {
   "cell_type": "code",
   "execution_count": null,
   "metadata": {},
   "outputs": [],
   "source": [
    "predictions = model.transform(df_kmeans)"
   ]
  },
  {
   "cell_type": "code",
   "execution_count": null,
   "metadata": {},
   "outputs": [],
   "source": [
    "from pyspark.ml.evaluation import ClusteringEvaluator\n",
    "evaluator = ClusteringEvaluator()\n",
    "silhouette = evaluator.evaluate(predictions)\n",
    "print(\"Silhouette with squared euclidean distance = \" + str(silhouette))"
   ]
  },
  {
   "cell_type": "markdown",
   "metadata": {},
   "source": [
    "The result 0.61 is not bad."
   ]
  },
  {
   "cell_type": "markdown",
   "metadata": {},
   "source": [
    "## Supervised Learning Models\n",
    "\n",
    "Perform some data cleaning and feature processing for training models."
   ]
  },
  {
   "cell_type": "code",
   "execution_count": null,
   "metadata": {},
   "outputs": [],
   "source": [
    "new_df1 = cleaned_df"
   ]
  },
  {
   "cell_type": "code",
   "execution_count": null,
   "metadata": {},
   "outputs": [],
   "source": [
    "def convert_type(line):\n",
    "    return float(line)"
   ]
  },
  {
   "cell_type": "code",
   "execution_count": null,
   "metadata": {},
   "outputs": [],
   "source": [
    "convert_udf = udf(convert_type, FloatType())\n",
    "new_df2 = new_df1.withColumn(\"chroma_cens1\", convert_udf(new_df1.chroma_cens1)).withColumnRenamed(\"chroma_cens1\", \"chroma_cens1\")\n",
    "new_df2 = new_df2.withColumn(\"chroma_cqt85\", convert_udf(new_df1.chroma_cqt85)).withColumnRenamed(\"chroma_cqt85\", \"chroma_cqt85\")\n",
    "new_df2 = new_df2.withColumn(\"chroma_stft169\", convert_udf(new_df1.chroma_stft169)).withColumnRenamed(\"chroma_stft169\", \"chroma_stft169\")\n",
    "new_df2 = new_df2.withColumn(\"mfcc253\", convert_udf(new_df1.mfcc253)).withColumnRenamed(\"mfcc253\", \"mfcc253\")\n",
    "new_df2 = new_df2.withColumn(\"spectral_bandwidth400\", convert_udf(new_df1.spectral_bandwidth400)).withColumnRenamed(\"spectral_bandwidth400\", \"spectral_bandwidth400\")\n",
    "new_df2 = new_df2.withColumn(\"spectral_centroid407\", convert_udf(new_df1.spectral_centroid407)).withColumnRenamed(\"spectral_centroid407\", \"spectral_centroid407\")\n",
    "new_df2 = new_df2.withColumn(\"spectral_contrast414\", convert_udf(new_df1.spectral_contrast414)).withColumnRenamed(\"spectral_contrast414\", \"spectral_contrast414\")\n",
    "new_df2 = new_df2.withColumn(\"tonnetz470\", convert_udf(new_df1.tonnetz470)).withColumnRenamed(\"tonnetz470\", \"tonnetz470\")\n",
    "new_df2 = new_df2.withColumn(\"zcr512\", convert_udf(new_df1.zcr512)).withColumnRenamed(\"zcr512\", \"zcr512\")"
   ]
  },
  {
   "cell_type": "code",
   "execution_count": null,
   "metadata": {},
   "outputs": [],
   "source": [
    "new_df2 = new_df2.na.drop()"
   ]
  },
  {
   "cell_type": "code",
   "execution_count": null,
   "metadata": {},
   "outputs": [],
   "source": [
    "new_df3 = new_df2.where((new_df2['genre_top'] == 'International') | (new_df2['genre_top'] == 'Instrumental') \n",
    "                        | (new_df2['genre_top'] == 'Rock')\n",
    "                        | (new_df2['genre_top'] == 'Jazz')  | (new_df2['genre_top'] == 'Pop') \n",
    "                        | (new_df2['genre_top'] == 'Folk') | (new_df2['genre_top'] == 'Classical') \n",
    "                        | (new_df2['genre_top'] == 'Blues')  | (new_df2['genre_top'] == 'Electronic') \n",
    "                        | (new_df2['genre_top'] == 'Experimental') | (new_df2['genre_top'] == 'Spoken')\n",
    "                        | (new_df2['genre_top'] == 'Country')  | (new_df2['genre_top'] == 'Hip-Hop'))\n"
   ]
  },
  {
   "cell_type": "code",
   "execution_count": null,
   "metadata": {},
   "outputs": [],
   "source": [
    "cols = ['chroma_cens1', 'chroma_cqt85', 'chroma_stft169', 'mfcc253', 'spectral_bandwidth400',\n",
    "           'spectral_centroid407', 'spectral_contrast414', 'tonnetz470', 'zcr512', 'genre_top']\n",
    "new_df3 = new_df3[cols]"
   ]
  },
  {
   "cell_type": "markdown",
   "metadata": {},
   "source": [
    "### Logistic Regression"
   ]
  },
  {
   "cell_type": "code",
   "execution_count": null,
   "metadata": {},
   "outputs": [],
   "source": [
    "# Create a feature vector by combining all features together using the vectorAssembler method.\n",
    "\n",
    "vectorAssembler_features = VectorAssembler(inputCols = ['chroma_cens1', 'chroma_cqt85', 'chroma_stft169', 'mfcc253', 'spectral_bandwidth400',\n",
    "           'spectral_centroid407', 'spectral_contrast414', 'tonnetz470', 'zcr512'], outputCol = 'features')\n",
    "StringIndexer_type = StringIndexer(inputCol = 'genre_top', outputCol = 'label')"
   ]
  },
  {
   "cell_type": "code",
   "execution_count": null,
   "metadata": {},
   "outputs": [],
   "source": [
    "StringIndexer_type = StringIndexer(inputCol = 'genre_top', outputCol = 'label')"
   ]
  },
  {
   "cell_type": "code",
   "execution_count": null,
   "metadata": {},
   "outputs": [],
   "source": [
    "lr = LogisticRegression(maxIter=10, regParam=0.3, elasticNetParam=0.8, family=\"multinomial\")\n",
    "pipeline = Pipeline(stages=[vectorAssembler_features, StringIndexer_type])\n",
    "pipelineFit = pipeline.fit(new_df3)\n",
    "dataset = pipelineFit.transform(new_df3)\n",
    "train, test = dataset.randomSplit([0.7, 0.3])\n",
    "model = lr.fit(train)\n",
    "predictions = model.transform(test)"
   ]
  },
  {
   "cell_type": "code",
   "execution_count": null,
   "metadata": {},
   "outputs": [],
   "source": [
    "evaluator = MulticlassClassificationEvaluator(\n",
    "    labelCol=\"label\", predictionCol=\"prediction\", metricName=\"accuracy\")\n",
    "accuracy = evaluator.evaluate(predictions)\n",
    "print(accuracy)"
   ]
  },
  {
   "cell_type": "markdown",
   "metadata": {},
   "source": [
    "The accuracy of the logistic regression model is only 0.27 and the performance is very bad, so we train an OneVsRest Logistic Regression model. The idea for OneVsRest Logistic Regression is that for each class, there is a binary classifier: this class or the rest of the class. When doing a multi class classification, choose the class with the highest probability. "
   ]
  },
  {
   "cell_type": "markdown",
   "metadata": {},
   "source": [
    "### OneVsRest Logistic Regression"
   ]
  },
  {
   "cell_type": "code",
   "execution_count": null,
   "metadata": {},
   "outputs": [],
   "source": [
    "from pyspark.ml.classification import LogisticRegression, OneVsRest\n",
    "# instantiate the base classifier.\n",
    "lr = LogisticRegression(maxIter=10, tol=1e-6, fitIntercept=True)\n",
    "\n",
    "# instantiate the One Vs Rest Classifier.\n",
    "ovr = OneVsRest(classifier=lr)\n",
    "\n",
    "# train the multiclass model.\n",
    "ovrModel = ovr.fit(train)\n",
    "\n",
    "# score the model on test data.\n",
    "predictions = ovrModel.transform(test)"
   ]
  },
  {
   "cell_type": "code",
   "execution_count": null,
   "metadata": {},
   "outputs": [],
   "source": [
    "evaluator = MulticlassClassificationEvaluator(\n",
    "    labelCol=\"label\", predictionCol=\"prediction\", metricName=\"accuracy\")\n",
    "accuracy = evaluator.evaluate(predictions)\n",
    "print(accuracy)"
   ]
  },
  {
   "cell_type": "code",
   "execution_count": null,
   "metadata": {},
   "outputs": [],
   "source": [
    "test_array = [int(row.label) for row in test.collect()]\n",
    "pred_array = [int(row.prediction) for row in predictions.collect()]\n",
    "cm = confusion_matrix(test_array, pred_array)"
   ]
  },
  {
   "cell_type": "code",
   "execution_count": null,
   "metadata": {},
   "outputs": [],
   "source": [
    "fig = plt.figure(figsize=(20,20))\n",
    "ax = sns.heatmap(cm, annot=True, ax = ax)\n",
    "# labels, title and ticks\n",
    "ax.set_xlabel('Predicted labels')\n",
    "ax.set_ylabel('True labels')\n",
    "ax.set_title('Confusion Matrix')\n",
    "plt.show()"
   ]
  },
  {
   "cell_type": "markdown",
   "metadata": {},
   "source": [
    "The accuracy of the OneVsRest Logistic Regression model is 0.344, and the performance is better than logistic regression but still not ideal, so we train a decision tree model to see how it goes.  "
   ]
  },
  {
   "cell_type": "code",
   "execution_count": null,
   "metadata": {},
   "outputs": [],
   "source": [
    "### Decision Tree"
   ]
  },
  {
   "cell_type": "code",
   "execution_count": null,
   "metadata": {},
   "outputs": [],
   "source": [
    "from pyspark.ml.classification import DecisionTreeClassifier\n"
   ]
  },
  {
   "cell_type": "code",
   "execution_count": null,
   "metadata": {},
   "outputs": [],
   "source": [
    "dt = DecisionTreeClassifier(labelCol=\"label\", featuresCol=\"features\")\n",
    "model = dt.fit(train)\n",
    "predictions = model.transform(test)\n",
    "evaluator = MulticlassClassificationEvaluator(\n",
    "    labelCol=\"label\", predictionCol=\"prediction\", metricName=\"accuracy\")\n",
    "accuracy = evaluator.evaluate(predictions)\n",
    "print(accuracy)"
   ]
  },
  {
   "cell_type": "code",
   "execution_count": null,
   "metadata": {},
   "outputs": [],
   "source": [
    "test_array = [int(row.label) for row in test.collect()]\n",
    "pred_array = [int(row.prediction) for row in predictions.collect()]\n",
    "cm = confusion_matrix(test_array, pred_array)"
   ]
  },
  {
   "cell_type": "code",
   "execution_count": null,
   "metadata": {},
   "outputs": [],
   "source": [
    "fig = plt.figure(figsize=(20,20))\n",
    "ax = sns.heatmap(cm, annot=True, ax = ax)\n",
    "# labels, title and ticks\n",
    "ax.set_xlabel('Predicted labels')\n",
    "ax.set_ylabel('True labels')\n",
    "ax.set_title('Confusion Matrix')\n",
    "plt.show()"
   ]
  },
  {
   "cell_type": "markdown",
   "metadata": {},
   "source": [
    "The accuracy of the decision tree model is 0.37 and the performance is the best among all three supervised learning models we have trained. "
   ]
  },
  {
   "cell_type": "code",
   "execution_count": null,
   "metadata": {},
   "outputs": [],
   "source": [
    "sc.stop()"
   ]
  }
 ],
 "metadata": {
  "kernelspec": {
   "display_name": "Python 3",
   "language": "python",
   "name": "python3"
  },
  "language_info": {
   "codemirror_mode": {
    "name": "ipython",
    "version": 3
   },
   "file_extension": ".py",
   "mimetype": "text/x-python",
   "name": "python",
   "nbconvert_exporter": "python",
   "pygments_lexer": "ipython3",
   "version": "3.7.6"
  }
 },
 "nbformat": 4,
 "nbformat_minor": 4
}
